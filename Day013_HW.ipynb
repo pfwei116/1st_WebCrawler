{
 "cells": [
  {
   "cell_type": "markdown",
   "metadata": {},
   "source": [
    "# PTT 網路爬蟲實作練習\n",
    "\n",
    "\n",
    "* 能夠利用 Request + BeatifulSour 撰寫爬蟲，並存放到合適的資料結構\n"
   ]
  },
  {
   "cell_type": "markdown",
   "metadata": {},
   "source": [
    "## 作業目標\n",
    "\n",
    "根據範例 ，完成以下問題：\n",
    "\n",
    "* ① 印出最新文章的「作者」「標題」「時間」\n",
    "* ② 印出第一頁所有文章的「作者」「標題」「時間」\n"
   ]
  },
  {
   "cell_type": "markdown",
   "metadata": {},
   "source": [
    "### ① 印出最新文章的「作者」「標題」「時間」"
   ]
  },
  {
   "cell_type": "code",
   "execution_count": 13,
   "metadata": {},
   "outputs": [
    {
     "name": "stdout",
     "output_type": "stream",
     "text": [
      "作者:jingthreept / 標題:Re: [BOX] Magic 103:118 Blazers 數據 / 時間:12/21\n",
      "作者:SeungYeon / 標題:Re: [外絮] 76人教練Brown: 過去三戰我們打的爛透了 / 時間:12/21\n",
      "作者:blue999 / 標題:[花邊] 林書豪坦承在球場上被罷凌 / 時間:12/21\n",
      "作者:ChrisDavis / 標題:[討論] Spoelstra是不是比我們想得還有料? / 時間:12/21\n",
      "作者:Aotearoa / 標題:[花邊] 超賽 Tacko Fall 今天的「火影忍者」球鞋 / 時間:12/21\n",
      "作者:Vedan / 標題:[公告] 板規v6.7 / 時間: 5/24\n",
      "作者:Vedan / 標題:[公告] 樂透取消及未來不再開啟樂透 / 時間: 6/24\n",
      "作者:qazwsx879345 / 標題:[公告] 版主上任相關事項  / 時間:10/25\n",
      "作者:JerroLi / 標題:[情報] SEASON Schedule 賽程 December 19–20 / 時間:11/29\n",
      "作者:dragon803 / 標題:[公告] 是否禁止記者鄭廷瑋文章投票開始 / 時間:12/16\n"
     ]
    }
   ],
   "source": [
    "import requests\n",
    "from bs4 import BeautifulSoup\n",
    "\n",
    "url = 'https://www.ptt.cc/bbs/NBA/index.html'\n",
    "r = requests.get(url)\n",
    "\n",
    "soup = BeautifulSoup(r.text, \"html5lib\")\n",
    "\n",
    "for d in soup.find_all(class_='r-ent'):\n",
    "    author = d.find(class_='author').text #作者\n",
    "    title = d.find(class_='title').text.replace(\"\\n\",\"\").replace(\"\\t\",\"\") #title\n",
    "    date = d.find(class_='date').text\n",
    "    print(f'作者:{author} / 標題:{title} / 時間:{date}')\n"
   ]
  },
  {
   "cell_type": "markdown",
   "metadata": {},
   "source": [
    "### ② 印出第一頁所有文章的「作者」「標題」「時間」"
   ]
  },
  {
   "cell_type": "code",
   "execution_count": 14,
   "metadata": {},
   "outputs": [
    {
     "name": "stdout",
     "output_type": "stream",
     "text": [
      "作者:Price / 標題:[轉錄]Lyotard 對於太陽板討論串的結論 / 時間: 5/16\n",
      "作者:Price / 標題:[公告] 請停止一切關於本次活動的發言 / 時間: 5/31\n",
      "作者:Frankaze / 標題:[轉錄]跟之前那篇比起來 我覺得這篇也應該轉過來 / 時間: 6/08\n",
      "作者:Frankaze / 標題:[轉錄]再轉一篇好文來 / 時間: 6/08\n",
      "作者:Price / 標題:[轉錄][情報] 夏洛特山貓系列 / 時間: 6/10\n",
      "作者:Price / 標題:[轉錄]Re: [心得] 真是受不了糗爺.... / 時間: 6/10\n",
      "作者:Price / 標題:[轉錄]總冠軍賽NO.2觀後感 / 時間: 6/10\n",
      "作者:AmuroNamie / 標題:[心得] Rasheed Wallace / 時間: 6/11\n",
      "作者:toptree / 標題:掌控球賽的男人 / 時間: 6/12\n",
      "作者:skchang / 標題:[閒聊] 說說2004季後賽名場面回顧 / 時間: 6/12\n",
      "作者:shineup / 標題:[心得] 其實說穿了 就是活塞的防守太可怕了 / 時間: 6/12\n",
      "作者:cOvi / 標題:Re: [閒聊] 說說2004季後賽名場面回顧 / 時間: 6/12\n",
      "作者:ykshih / 標題:Re: [閒聊] 說說2004季後賽名場面回顧 / 時間: 6/12\n",
      "作者:Frankaze / 標題:Re: [閒聊] 說說2004季後賽名場面回顧 / 時間: 6/12\n",
      "作者:Price / 標題:[轉錄]Re: 總冠軍賽NO.3觀後感 / 時間: 6/14\n",
      "作者:Frankaze / 標題:[轉錄]Re: 總冠軍賽NO.3觀後感 / 時間: 6/14\n",
      "作者:star1 / 標題:Re: [轉錄]Re: 總冠軍賽NO.3觀後感 / 時間: 6/14\n",
      "作者:coldspring / 標題:Re: [轉錄]Re: 總冠軍賽NO.3觀後感 / 時間: 6/14\n",
      "作者:airbear / 標題:Re: Kobe is frustrated... / 時間: 6/14\n",
      "作者:pennykidd / 標題:Re: [轉錄]Re: 總冠軍賽NO.3觀後感 / 時間: 6/14\n"
     ]
    }
   ],
   "source": [
    "import requests\n",
    "from bs4 import BeautifulSoup\n",
    "\n",
    "url = 'https://www.ptt.cc/bbs/NBA/index1.html'\n",
    "r = requests.get(url)\n",
    "\n",
    "soup = BeautifulSoup(r.text, \"html5lib\")\n",
    "\n",
    "for d in soup.find_all(class_='r-ent'):\n",
    "    author = d.find(class_='author').text #作者\n",
    "    title = d.find(class_='title').text.replace(\"\\n\",\"\").replace(\"\\t\",\"\") #title\n",
    "    date = d.find(class_='date').text\n",
    "    print(f'作者:{author} / 標題:{title} / 時間:{date}')"
   ]
  },
  {
   "cell_type": "markdown",
   "metadata": {},
   "source": [
    "### ③ 試著爬爬看其他版的文章"
   ]
  },
  {
   "cell_type": "code",
   "execution_count": null,
   "metadata": {},
   "outputs": [],
   "source": [
    "'''\n",
    "Your Code\n",
    "'''"
   ]
  }
 ],
 "metadata": {
  "kernelspec": {
   "display_name": "Python 3",
   "language": "python",
   "name": "python3"
  },
  "language_info": {
   "codemirror_mode": {
    "name": "ipython",
    "version": 3
   },
   "file_extension": ".py",
   "mimetype": "text/x-python",
   "name": "python",
   "nbconvert_exporter": "python",
   "pygments_lexer": "ipython3",
   "version": "3.6.5"
  }
 },
 "nbformat": 4,
 "nbformat_minor": 4
}
