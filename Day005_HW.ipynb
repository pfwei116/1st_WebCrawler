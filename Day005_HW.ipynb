{
 "cells": [
  {
   "cell_type": "markdown",
   "metadata": {},
   "source": [
    "# API 資料串接 - 以 Dcard API 實作範例\n",
    "\n",
    "* 利用 urllib 套件的 urlretrieve 方法下載檔案\n",
    "* 了解 Python File I/O 讀檔、寫檔的用法\n",
    "* 能用運用資源管理器 With Statement 優化寫法"
   ]
  },
  {
   "cell_type": "markdown",
   "metadata": {},
   "source": [
    "## 作業目標\n",
    "\n",
    "* 請利用 API: https://www.dcard.tw/_api/forums/pet/posts?popular=true 回答下列問題：\n",
    "\n",
    "1. 這個 API 一次會回傳幾筆資料？每一筆資料包含哪些欄位？\n",
    "2. 取出每一筆資料的「標題」、「貼文時間」、「留言人數」、「按讚人數」\n",
    "3. 計算熱門/非熱門文章的「平均留言人數」與「平均按讚人數」"
   ]
  },
  {
   "cell_type": "code",
   "execution_count": 1,
   "metadata": {},
   "outputs": [],
   "source": [
    "import requests\n",
    "import json"
   ]
  },
  {
   "cell_type": "code",
   "execution_count": 17,
   "metadata": {},
   "outputs": [],
   "source": [
    "# 1. 這個 API 一次會回傳幾筆資料？每一筆資料包含哪些欄位？\n",
    "\n",
    "r = requests.get('https://www.dcard.tw/_api/forums/pet/posts?popular=true')\n",
    "response = json.loads(r.text)"
   ]
  },
  {
   "cell_type": "code",
   "execution_count": 18,
   "metadata": {},
   "outputs": [
    {
     "data": {
      "text/plain": [
       "30"
      ]
     },
     "execution_count": 18,
     "metadata": {},
     "output_type": "execute_result"
    }
   ],
   "source": [
    "# 回傳幾筆資料\n",
    "type(response)\n",
    "len(response)"
   ]
  },
  {
   "cell_type": "code",
   "execution_count": 19,
   "metadata": {},
   "outputs": [
    {
     "data": {
      "text/plain": [
       "dict_keys(['id', 'title', 'excerpt', 'anonymousSchool', 'anonymousDepartment', 'pinned', 'forumId', 'replyId', 'createdAt', 'updatedAt', 'commentCount', 'likeCount', 'withNickname', 'tags', 'topics', 'meta', 'forumName', 'forumAlias', 'gender', 'school', 'department', 'replyTitle', 'mediaMeta', 'reactions', 'hidden', 'customStyle', 'isSuspiciousAccount', 'layout', 'withImages', 'withVideos', 'media', 'reportReasonText', 'postAvatar'])"
      ]
     },
     "execution_count": 19,
     "metadata": {},
     "output_type": "execute_result"
    }
   ],
   "source": [
    "# 包含哪些欄位\n",
    "response[0].keys()"
   ]
  },
  {
   "cell_type": "code",
   "execution_count": 28,
   "metadata": {},
   "outputs": [
    {
     "name": "stdout",
     "output_type": "stream",
     "text": [
      "id:232599218: 標題:我家的貓每天睡覺前一定會做的事 貼文時間:2019-11-30T06:52:29.882Z  留言人數:91 按讚人數:3320 \n",
      "id:232598614: 標題:被擠床原來是一件幸福的事 貼文時間:2019-11-30T04:15:42.699Z  留言人數:22 按讚人數:1302 \n",
      "id:232602091: 標題:#哈士奇 滿一歲啦 文長 滿滿的二哈 貼文時間:2019-11-30T16:30:51.154Z  留言人數:23 按讚人數:641 \n",
      "id:232600153: 標題:媽 晚餐好了沒 貼文時間:2019-11-30T10:42:58.582Z  留言人數:4 按讚人數:434 \n",
      "id:232598383: 標題:有貓快拜！！ 貼文時間:2019-11-30T03:07:22.599Z  留言人數:4 按讚人數:326 \n",
      "id:232598758: 標題:有人要吸兔嗎？ 貼文時間:2019-11-30T04:58:10.195Z  留言人數:35 按讚人數:241 \n",
      "id:232601328: 標題:你到底是貓還是狗？ 貼文時間:2019-11-30T14:32:06.500Z  留言人數:10 按讚人數:61 \n",
      "id:232602392: 標題:原來柴犬可以那麽可愛🐕 貼文時間:2019-11-30T17:17:51.628Z  留言人數:2 按讚人數:51 \n",
      "id:232599431: 標題:白圍巾白手套橘貓❤️ 貼文時間:2019-11-30T07:44:14.420Z  留言人數:6 按讚人數:46 \n",
      "id:232603660: 標題:我養的是工讀生？🤔 貼文時間:2019-12-01T02:07:09.729Z  留言人數:6 按讚人數:43 \n",
      "id:232600344: 標題:四個月的布偶屁貓 貼文時間:2019-11-30T11:24:26.047Z  留言人數:1 按讚人數:36 \n",
      "id:232605062: 標題:好像買太小了... 貼文時間:2019-12-01T08:27:28.504Z  留言人數:1 按讚人數:31 \n",
      "id:232598446: 標題:#柴 #影片 到底有多討厭洗澡 貼文時間:2019-11-30T03:24:55.897Z  留言人數:1 按讚人數:30 \n",
      "id:232600070: 標題:從沒想過山竹可以這麼可口ฅ 貼文時間:2019-11-30T10:24:08.529Z  留言人數:5 按讚人數:28 \n",
      "id:232600311: 標題:我不是貓 我是兔子 貼文時間:2019-11-30T11:16:53.115Z  留言人數:1 按讚人數:25 \n",
      "id:232603503: 標題:如果當初這樣做 或許結局就能不同了吧 貼文時間:2019-12-01T00:49:18.221Z  留言人數:0 按讚人數:24 \n",
      "id:232603212: 標題:自嗨小橘貓 貼文時間:2019-11-30T20:21:16.782Z  留言人數:1 按讚人數:23 \n",
      "id:232600834: 標題:你一定要這樣厭世嗎 貼文時間:2019-11-30T13:05:07.439Z  留言人數:1 按讚人數:20 \n",
      "id:232599546: 標題:#貓 #影 #圖 不只慢半拍ㄉ音癡（？ 貼文時間:2019-11-30T08:14:35.514Z  留言人數:2 按讚人數:20 \n",
      "id:232601904: 標題:小寶貝 貼文時間:2019-11-30T16:01:13.979Z  留言人數:0 按讚人數:19 \n",
      "id:232601659: 標題:#貓咪 十隻白貓九隻胖 貼文時間:2019-11-30T15:24:46.075Z  留言人數:6 按讚人數:19 \n",
      "id:232600534: 標題:就算之後天天吃泡麵也要救活妳 貼文時間:2019-11-30T11:59:28.473Z  留言人數:0 按讚人數:19 \n",
      "id:232602865: 標題:我家阿咪的特技 貼文時間:2019-11-30T18:43:59.640Z  留言人數:4 按讚人數:17 \n",
      "id:232598231: 標題:這個哈欠... 貼文時間:2019-11-30T02:20:59.472Z  留言人數:2 按讚人數:14 \n",
      "id:232599125: 標題:我家貓咪真可愛♥️♥️ 貼文時間:2019-11-30T06:31:53.631Z  留言人數:6 按讚人數:13 \n",
      "id:232603003: 標題:請問⋯妳是在哈囉？ 貼文時間:2019-11-30T19:16:39.494Z  留言人數:2 按讚人數:12 \n",
      "id:232600966: 標題:急尋愛貓一隻🙏🙏 貼文時間:2019-11-30T13:31:14.399Z  留言人數:2 按讚人數:12 \n",
      "id:232603001: 標題:虎爺公的細漢欸（小弟） 貼文時間:2019-11-30T19:16:31.808Z  留言人數:0 按讚人數:10 \n",
      "id:232602821: 標題:一隻會傳球的貓 貼文時間:2019-11-30T18:36:38.485Z  留言人數:0 按讚人數:9 \n",
      "id:232600761: 標題:白貓是不是很白目？ 貼文時間:2019-11-30T12:47:15.519Z  留言人數:4 按讚人數:9 \n"
     ]
    }
   ],
   "source": [
    "# 2. 取出每一筆資料的「標題」、「貼文時間」、「留言人數」、「按讚人數」\n",
    "\n",
    "for i in response:\n",
    "    print(f\"id:{i['id']}: 標題:{i['title']} 貼文時間:{i['createdAt']}  留言人數:{i['commentCount']} 按讚人數:{i['likeCount']} \")"
   ]
  },
  {
   "cell_type": "code",
   "execution_count": 32,
   "metadata": {},
   "outputs": [
    {
     "name": "stdout",
     "output_type": "stream",
     "text": [
      "熱門文章: 平均留言人數 8.433333333333334 ， 平均按讚人數 238.5   \n"
     ]
    }
   ],
   "source": [
    "# 3. 計算熱門/非熱門文章的「平均留言人數」與「平均按讚人數」\n",
    "\n",
    "# 熱門\n",
    "r = requests.get('https://www.dcard.tw/_api/forums/pet/posts?popular=true')\n",
    "response = json.loads(r.text)\n",
    "\n",
    "cnt_comment = 0\n",
    "cnt_like = 0\n",
    "\n",
    "for i in response:\n",
    "    cnt_comment += i['commentCount']\n",
    "    cnt_like += i['likeCount']\n",
    "print(f\"熱門文章: 平均留言人數 {cnt_comment/len(response)} ， 平均按讚人數 {cnt_like/len(response)}   \")"
   ]
  },
  {
   "cell_type": "code",
   "execution_count": 33,
   "metadata": {},
   "outputs": [
    {
     "name": "stdout",
     "output_type": "stream",
     "text": [
      "非熱門文章: 平均留言人數 1.6666666666666667 ， 平均按讚人數 4.4   \n"
     ]
    }
   ],
   "source": [
    "# 熱門\n",
    "r = requests.get('https://www.dcard.tw/_api/forums/pet/posts?popular=false')\n",
    "response = json.loads(r.text)\n",
    "\n",
    "cnt_comment = 0\n",
    "cnt_like = 0\n",
    "\n",
    "for i in response:\n",
    "    cnt_comment += i['commentCount']\n",
    "    cnt_like += i['likeCount']\n",
    "print(f\"非熱門文章: 平均留言人數 {cnt_comment/len(response)} ， 平均按讚人數 {cnt_like/len(response)}   \")"
   ]
  },
  {
   "cell_type": "code",
   "execution_count": null,
   "metadata": {},
   "outputs": [],
   "source": []
  }
 ],
 "metadata": {
  "kernelspec": {
   "display_name": "Python 3",
   "language": "python",
   "name": "python3"
  },
  "language_info": {
   "codemirror_mode": {
    "name": "ipython",
    "version": 3
   },
   "file_extension": ".py",
   "mimetype": "text/x-python",
   "name": "python",
   "nbconvert_exporter": "python",
   "pygments_lexer": "ipython3",
   "version": "3.7.4"
  }
 },
 "nbformat": 4,
 "nbformat_minor": 4
}
