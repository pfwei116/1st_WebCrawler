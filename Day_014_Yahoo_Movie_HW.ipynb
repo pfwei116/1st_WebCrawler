{
 "cells": [
  {
   "cell_type": "markdown",
   "metadata": {},
   "source": [
    "# YAHOO電影爬蟲練習\n",
    "## 練習爬取電影放映資訊。必須逐步獲取電影的代號、放映地區、放映日期後，再送出查詢給伺服器。"
   ]
  },
  {
   "cell_type": "code",
   "execution_count": 1,
   "metadata": {},
   "outputs": [],
   "source": [
    "import requests\n",
    "import re\n",
    "from bs4 import BeautifulSoup"
   ]
  },
  {
   "cell_type": "markdown",
   "metadata": {},
   "source": [
    "### 先搜尋全部的電影代號(ID)資訊"
   ]
  },
  {
   "cell_type": "code",
   "execution_count": 3,
   "metadata": {
    "collapsed": true,
    "jupyter": {
     "outputs_hidden": true
    }
   },
   "outputs": [
    {
     "name": "stdout",
     "output_type": "stream",
     "text": [
      "Movie: 兔嘲男孩, ID: 10283\n",
      "Movie: 海上鋼琴師4K數位修復, ID: 10425\n",
      "Movie: 鹿皮奇談, ID: 10420\n",
      "Movie: 大約在冬季, ID: 10408\n",
      "Movie: 倒數計死, ID: 10390\n",
      "Movie: 吹哨人, ID: 10381\n",
      "Movie: 幸福試用期, ID: 10374\n",
      "Movie: 竊竊屍語, ID: 10365\n",
      "Movie: 舞力決戰, ID: 10344\n",
      "Movie: 潛艦追緝, ID: 10333\n",
      "Movie: 霹靂嬌娃, ID: 10124\n",
      "Movie: 白頭山：半島浩劫, ID: 10354\n",
      "Movie: CATS貓, ID: 10166\n",
      "Movie: 金魚, ID: 10424\n",
      "Movie: 海上花, ID: 10376\n",
      "Movie: 奪魂露營車, ID: 10366\n",
      "Movie: 怨靈古堡, ID: 10356\n",
      "Movie: 添好孕, ID: 10332\n",
      "Movie: 外出偷馬, ID: 10310\n",
      "Movie: 茱蒂, ID: 10112\n",
      "Movie: 燃燒女子的畫像, ID: 10069\n",
      "Movie: 葉問4：完結篇, ID: 9890\n",
      "Movie: STAR WARS : 天行者的崛起, ID: 10225\n",
      "Movie: 復仇母親, ID: 10392\n",
      "Movie: 風暴過後, ID: 10387\n",
      "Movie: 南方車站的聚會, ID: 10380\n",
      "Movie: 祭旗, ID: 10373\n",
      "Movie: 黑熊來了, ID: 10357\n",
      "Movie: 黑計畫, ID: 10351\n",
      "Movie: 假面騎士劇場版ZI-O Over Quartzer, ID: 10331\n",
      "Movie: 8級警戒, ID: 10323\n",
      "Movie: 為你存在的每一天, ID: 10297\n",
      "Movie: 黑色聖誕節, ID: 10291\n",
      "Movie: 熱氣球飛行家, ID: 10257\n",
      "Movie: 大說謊家, ID: 10122\n",
      "Movie: 特約經紀公司, ID: 10364\n",
      "Movie: 人間失格：太宰治與他的3個女人, ID: 10287\n",
      "Movie: 呆萌特務, ID: 10264\n",
      "Movie: 去年聖誕節, ID: 10256\n",
      "Movie: 野蠻遊戲：全面晉級, ID: 10134\n",
      "Movie: 夕霧花園, ID: 10327\n",
      "Movie: 鋒迴路轉, ID: 10258\n",
      "Movie: 賽道狂人, ID: 10097\n",
      "Movie: 麂皮：永不滿足, ID: 10358\n",
      "Movie: 82年生的金智英, ID: 10298\n",
      "Movie: 冰雪奇緣2, ID: 9597\n",
      "Movie: 新聞記者, ID: 10217\n",
      "Movie: 決戰中途島, ID: 10130\n",
      "Movie: 陽光普照, ID: 10240\n",
      "Movie: 傻傻愛你，傻傻愛我, ID: 10075\n",
      "Movie: 狙擊獵殺：救援行動, ID: 10284\n",
      "Movie: 金翅雀, ID: 10072\n",
      "Movie: 雙子殺手, ID: 10017\n",
      "Movie: 盲人律師, ID: 10267\n",
      "Movie: 海獸之子, ID: 10263\n",
      "Movie: 電影版 壞傢伙們, ID: 10249\n",
      "Movie: 江湖無難事, ID: 10241\n",
      "Movie: 仙戒奇緣, ID: 10211\n",
      "Movie: 藍波：最後一滴血, ID: 10205\n",
      "Movie: 屍樂園：髒比雙拼, ID: 10176\n",
      "Movie: 弒婚遊戲, ID: 10171\n",
      "Movie: 108悍將, ID: 10238\n",
      "Movie: 壞壞萌雪怪, ID: 10065\n",
      "Movie: 小丑, ID: 9949\n",
      "Movie: 教父II, ID: 10289\n",
      "Movie: 瞞天機密, ID: 10206\n",
      "Movie: 校外打怪教學, ID: 10200\n",
      "Movie: 返校, ID: 10109\n",
      "Movie: 唐頓莊園, ID: 10064\n",
      "Movie: 衝擊真相, ID: 10215\n",
      "Movie: 舞孃騙很大, ID: 10199\n",
      "Movie: 好小男孩, ID: 9894\n",
      "Movie: 大叔之愛電影版, ID: 10136\n",
      "Movie: 牠 第二章, ID: 10042\n",
      "Movie: 極限逃生, ID: 10174\n",
      "Movie: 全面攻佔3：天使救援, ID: 10082\n",
      "Movie: 憤怒鳥玩電影2：冰的啦, ID: 10002\n",
      "Movie: 獅子王, ID: 9116\n",
      "Movie: 玩具總動員4, ID: 9924\n",
      "Movie: 毀滅者, ID: 9405\n",
      "Movie: 庫爾斯克號：深海救援, ID: 9134\n",
      "Movie: 厄夜追緝令, ID: 9589\n",
      "Movie: 苦兒流浪記, ID: 9538\n",
      "Movie: 活個精彩, ID: 9394\n",
      "Movie: 限時好友, ID: 9578\n",
      "Movie: 祝你忌日快樂, ID: 9568\n",
      "Movie: 艾莉塔：戰鬥天使, ID: 8553\n",
      "Movie: 馴龍高手3, ID: 8350\n",
      "Movie: 幸福綠皮書, ID: 9150\n",
      "Movie: 一首搖滾上月球, ID: 4887\n",
      "Movie: 錢不夠用2, ID: 3026\n"
     ]
    }
   ],
   "source": [
    "# 查看目前上映那些電影，並擷取出其ID資訊\n",
    "url = 'https://movies.yahoo.com.tw/'\n",
    "resp = requests.get(url)\n",
    "resp.encoding = 'utf-8'\n",
    "\n",
    "soup = BeautifulSoup(resp.text, 'lxml')\n",
    "html = soup.find(\"select\", attrs={'name':'movie_id'})\n",
    "movie_item = html.find_all(\"option\", attrs={'data-name':re.compile('.*')})\n",
    "\n",
    "for p in movie_item:\n",
    "    print(\"Movie: %s, ID: %s\" % (p[\"data-name\"], p[\"value\"]))"
   ]
  },
  {
   "cell_type": "markdown",
   "metadata": {},
   "source": [
    "### 指定你有興趣的電影其ID，然後查詢其放映地區資訊。"
   ]
  },
  {
   "cell_type": "code",
   "execution_count": 42,
   "metadata": {},
   "outputs": [],
   "source": [
    "# 參考前一個步驟中擷取到的ID資訊，並指定ID\n",
    "movie_id = 9890"
   ]
  },
  {
   "cell_type": "code",
   "execution_count": 43,
   "metadata": {},
   "outputs": [
    {
     "name": "stdout",
     "output_type": "stream",
     "text": [
      "放映地區: 台北市, 代號(area_id): 28\n",
      "放映地區: 新北市, 代號(area_id): 8\n",
      "放映地區: 桃園, 代號(area_id): 16\n",
      "放映地區: 新竹, 代號(area_id): 20\n",
      "放映地區: 苗栗, 代號(area_id): 15\n",
      "放映地區: 台中, 代號(area_id): 2\n",
      "放映地區: 彰化, 代號(area_id): 22\n",
      "放映地區: 南投, 代號(area_id): 13\n",
      "放映地區: 雲林, 代號(area_id): 19\n",
      "放映地區: 嘉義, 代號(area_id): 21\n",
      "放映地區: 台南, 代號(area_id): 10\n",
      "放映地區: 高雄, 代號(area_id): 17\n",
      "放映地區: 屏東, 代號(area_id): 14\n",
      "放映地區: 基隆, 代號(area_id): 18\n",
      "放映地區: 宜蘭, 代號(area_id): 11\n",
      "放映地區: 花蓮, 代號(area_id): 12\n",
      "放映地區: 台東, 代號(area_id): 9\n",
      "放映地區: 金門, 代號(area_id): 24\n",
      "放映地區: 澎湖, 代號(area_id): 23\n"
     ]
    }
   ],
   "source": [
    "url = 'https://movies.yahoo.com.tw/api/v1/areas_by_movie_theater'\n",
    "payload = {'movie_id':str(movie_id)}\n",
    "\n",
    "# 模擬一個header\n",
    "headers = {\n",
    "    'authority': 'movies.yahoo.com.tw',\n",
    "    'method': 'GET',\n",
    "    'path': '/api/v1/areas_by_movie_theater?movie_id=' + str(movie_id),\n",
    "    'scheme': 'https',\n",
    "    'accept': 'application/json, text/javascript, */*; q=0.01',\n",
    "    'accept-encoding': 'gzip, deflate, br',\n",
    "    'accept-language': 'zh-TW,zh;q=0.9,en-US;q=0.8,en;q=0.7,zh-CN;q=0.6',\n",
    "    'cookie': 'rxx=9s3x2fws06.1g16irnc&v=1; _ga=GA1.3.2056742944.1551651301; GUC=AQEBAQFczFpdm0IfmwSB&s=AQAAACoo4N5D&g=XMsVBw; BX=4hkdk1decm57t&b=3&s=mr; _ga=GA1.4.2056742944.1551651301; nexagesuid=82843256dd234e8e91aa73f2062f8218; browsed_movie=eyJpdiI6IlJXWWtiSWJaZlNGK2MxQnhscnVUYWc9PSIsInZhbHVlIjoiMXRhMmVHRXRIeUNjc1RBWDJzdGYwbnlIQURmWGsrcjJSMzhkbkcraDNJVUNIZEZsbzU3amlFcVZ1NzlmazJrTGpoMjVrbHk1YmpoRENXaHZTOUw1TmI2ZTZVWHdOejZQZm16RmVuMWlHTTJLaTZLVFZZVkFOMDlTd1wvSGltcytJIiwibWFjIjoiZWQ2ZjA4MmVjZmZlYjlmNjJmYmY2NGMyMDI0Njc0NWViYjVkOWE2NDg0N2RhODMxZjBjZDhiMmJhZTc2MDZhYiJ9; avi=eyJpdiI6Im1NeWFJRlVRWDR1endEcGRGUGJUbVE9PSIsInZhbHVlIjoickRpU3JuUytmcGl6cjF5OW0rNU9iZz09IiwibWFjIjoiY2VmY2NkNzZmM2NhNjY5YzlkOTcyNjE5OGEyMzU0NWYxOTdmMDRkMDY3OWNmMmZjOTMxYjc5MjI5N2Q5NGE5MiJ9; cmp=t=1559391030&j=0; _gid=GA1.4.779543841.1559391031; XSRF-TOKEN=eyJpdiI6IkhpS2hGcDRQaHlmWUJmaHdSS2Q2bHc9PSIsInZhbHVlIjoiOUVoNFk4OHI1UUZmUWRtYXhza0MyWjJSTlhlZ3RnT0VGeVJPN2JuczVRMGRFdWt2OUlsamVKeHRobFwvcHBGM0dhU3VyMXNGTHlsb2dVM2l0U1hpUGxBPT0iLCJtYWMiOiJkZWU4YzJhNjAxMTY3MzE4Y2ExNWIxYmE1ZjE1YWZlZTlhOTcyYjc4M2RlZGY4ZWNjZDYyMTA2NGYwZGViMzc2In0%3D; m_s=eyJpdiI6InpsZHZ2Tk1BZ0dxaHhETml1RjBnUXc9PSIsInZhbHVlIjoiSkNGeHUranRoXC85bDFiaDhySTJqNkJRcWdjWUxjeVRJSHVYZ1wvd2d4bWJZUTUrSHVDM0lUcW5KNHdETFZ4T1lieU81OUhzc1VoUXhZcWk0UDZSQXVFdz09IiwibWFjIjoiYmJkMDJkMDhlODIzMzcyMWY4M2NmYWNjNGVlOWRjMDIwZmVmNzAyMjE3Yzg3ZGY3ODBkZWEzZTI4MTI5ZWNmOSJ9; _gat=1; nexagesd=10',\n",
    "    'dnt': '1',\n",
    "    'mv-authorization': '21835b082e15b91a69b3851eec7b31b82ce82afb',\n",
    "    'referer': 'https://movies.yahoo.com.tw/',\n",
    "    'user-agent': 'Mozilla/5.0 (Windows NT 10.0; Win64; x64) AppleWebKit/537.36 (KHTML, like Gecko) Chrome/74.0.3729.169 Safari/537.36',\n",
    "    'x-requested-with': 'XMLHttpRequest',\n",
    "}\n",
    "    \n",
    "resp = requests.get(url, params=payload, headers=headers)\n",
    "#print(resp.json())  # 若有需要，列印出json原始碼\n",
    "\n",
    "# 這裡回傳的格式是JSON格式的資料，要解析JSON擷取資料\n",
    "for p in resp.json():\n",
    "    print('放映地區: {0}, 代號(area_id): {1}'.format(p['title'], p['area_id']))"
   ]
  },
  {
   "cell_type": "markdown",
   "metadata": {},
   "source": [
    "### 指定你想要觀看的放映地區，查詢有上映電影的場次日期"
   ]
  },
  {
   "cell_type": "code",
   "execution_count": 44,
   "metadata": {},
   "outputs": [],
   "source": [
    "# 指定放映地區\n",
    "area_id = 28\n",
    "movie_id = 9890"
   ]
  },
  {
   "cell_type": "code",
   "execution_count": 45,
   "metadata": {},
   "outputs": [
    {
     "name": "stdout",
     "output_type": "stream",
     "text": [
      "一月 1\n",
      "一月 2\n",
      "一月 3\n",
      "一月 4\n",
      "一月 5\n"
     ]
    }
   ],
   "source": [
    "# 向網站發送請求\n",
    "url = 'https://movies.yahoo.com.tw/movietime_result.html'\n",
    "payload = {'movie_id':str(movie_id), 'area_id':str(area_id)}\n",
    "resp = requests.get(url, params=payload)\n",
    "resp.encoding = 'utf-8'\n",
    "\n",
    "soup = BeautifulSoup(resp.text, 'lxml')\n",
    "movie_date = soup.find_all(\"label\", attrs={'for':re.compile(\"date_[\\d]\")})\n",
    "\n",
    "# 列印播放日期\n",
    "for date in movie_date:\n",
    "    print(\"%s %s\" % (date.p.string, date.h3.string))"
   ]
  },
  {
   "cell_type": "markdown",
   "metadata": {},
   "source": [
    "### 最後指定觀看的日期，查詢並列印出放映的電影院、放映類型(數位、3D、IMAX 3D...)、放映時間等資訊。"
   ]
  },
  {
   "cell_type": "code",
   "execution_count": 46,
   "metadata": {},
   "outputs": [],
   "source": [
    "# 選定要觀看的日期\n",
    "date = \"2020-01-03\""
   ]
  },
  {
   "cell_type": "code",
   "execution_count": 47,
   "metadata": {},
   "outputs": [],
   "source": [
    "# 向網站發送請求，獲取上映的電影院及時間資訊\n",
    "url = \"https://movies.yahoo.com.tw/ajax/pc/get_schedule_by_movie\"\n",
    "payload = {'movie_id':str(movie_id),\n",
    "           'date':date,\n",
    "           'area_id':str(area_id),\n",
    "           'theater_id':'',\n",
    "           'datetime':'',\n",
    "           'movie_type_id':''}\n",
    "\n",
    "resp = requests.get(url, params=payload)\n",
    "#print(resp.json()['view'])  # 若有需要，列印出json原始碼\n",
    "\n",
    "soup = BeautifulSoup(resp.json()['view'], 'lxml')\n",
    "html = soup.find_all(\"ul\", attrs={'data-theater_name':re.compile(\".*\")})"
   ]
  },
  {
   "cell_type": "code",
   "execution_count": 48,
   "metadata": {
    "collapsed": true,
    "jupyter": {
     "outputs_hidden": true
    }
   },
   "outputs": [
    {
     "name": "stdout",
     "output_type": "stream",
     "text": [
      "<class 'bs4.element.ResultSet'>\n",
      "[<ul class=\"area_time _c jq_area_time\" data-theater_name=\"台北美麗華大直影城\" data-theater_schedules=\"https://movies.yahoo.com.tw/theater_result.html/id=32\" data-theater_url=\"http://www.miramarcinemas.tw/\" id=\"theater_id_32\">\n",
      "<li class=\"adds\">\n",
      "<a href=\"https://movies.yahoo.com.tw/theater_result.html/id=32\">台北美麗華大直影城</a>\n",
      "<span>02-85022208</span>\n",
      "</li>\n",
      "<li class=\"taps\">\n",
      "<span class=\"tapR\">數位</span> </li>\n",
      "<li class=\"time _c\">\n",
      "<div class=\"input_picker jq_input_picker\">\n",
      "<input class=\"gabtn\" data-cinema=\"40288eb0050f31210ada0f55676b1bbc\" data-date=\"1577980800\" data-ezding=\"ezding\" data-ga=\"['電影頁_時刻表', '電影頁_時刻表_場次', '葉問4：完結篇']\" data-movie=\"6ae85d5469e64576be07146ba1e357da\" data-movie_date=\"01.03\" data-movie_time=\"09:00\" data-movie_title=\"葉問4：完結篇\" data-movie_type=\"數位\" data-session=\"a05eb743977549228f8f16e3014047f7\" data-time=\"1578013200\" id=\"72684660\" name=\"schedule_list\" type=\"radio\" value=\"2020-01-03 09:00:00\"/>\n",
      "<label class=\"select\" for=\"72684660\">09:00</label>\n",
      "<input class=\"gabtn\" data-cinema=\"40288eb0050f31210ada0f55676b1bbc\" data-date=\"1577980800\" data-ezding=\"ezding\" data-ga=\"['電影頁_時刻表', '電影頁_時刻表_場次', '葉問4：完結篇']\" data-movie=\"6ae85d5469e64576be07146ba1e357da\" data-movie_date=\"01.03\" data-movie_time=\"10:00\" data-movie_title=\"葉問4：完結篇\" data-movie_type=\"數位\" data-session=\"dfa48d5e167243c6a422b429db7ada5e\" data-time=\"1578016800\" id=\"72684661\" name=\"schedule_list\" type=\"radio\" value=\"2020-01-03 10:00:00\"/>\n",
      "<label class=\"select\" for=\"72684661\">10:00</label>\n",
      "<input class=\"gabtn\" data-cinema=\"40288eb0050f31210ada0f55676b1bbc\" data-date=\"1577980800\" data-ezding=\"ezding\" data-ga=\"['電影頁_時刻表', '電影頁_時刻表_場次', '葉問4：完結篇']\" data-movie=\"6ae85d5469e64576be07146ba1e357da\" data-movie_date=\"01.03\" data-movie_time=\"11:20\" data-movie_title=\"葉問4：完結篇\" data-movie_type=\"數位\" data-session=\"a910f657e57d42389f3fcae4cf7d98c9\" data-time=\"1578021600\" id=\"72684662\" name=\"schedule_list\" type=\"radio\" value=\"2020-01-03 11:20:00\"/>\n",
      "<label class=\"select\" for=\"72684662\">11:20</label>\n",
      "<input class=\"gabtn\" data-cinema=\"40288eb0050f31210ada0f55676b1bbc\" data-date=\"1577980800\" data-ezding=\"ezding\" data-ga=\"['電影頁_時刻表', '電影頁_時刻表_場次', '葉問4：完結篇']\" data-movie=\"6ae85d5469e64576be07146ba1e357da\" data-movie_date=\"01.03\" data-movie_time=\"13:30\" data-movie_title=\"葉問4：完結篇\" data-movie_type=\"數位\" data-session=\"1caee92193de49cb805f8dcbb544f98d\" data-time=\"1578029400\" id=\"72684663\" name=\"schedule_list\" type=\"radio\" value=\"2020-01-03 13:30:00\"/>\n",
      "<label class=\"select\" for=\"72684663\">13:30</label>\n",
      "<input class=\"gabtn\" data-cinema=\"40288eb0050f31210ada0f55676b1bbc\" data-date=\"1577980800\" data-ezding=\"ezding\" data-ga=\"['電影頁_時刻表', '電影頁_時刻表_場次', '葉問4：完結篇']\" data-movie=\"6ae85d5469e64576be07146ba1e357da\" data-movie_date=\"01.03\" data-movie_time=\"14:25\" data-movie_title=\"葉問4：完結篇\" data-movie_type=\"數位\" data-session=\"de14301018ba4c71b87c26cb08ea2a30\" data-time=\"1578032700\" id=\"72684664\" name=\"schedule_list\" type=\"radio\" value=\"2020-01-03 14:25:00\"/>\n",
      "<label class=\"select\" for=\"72684664\">14:25</label>\n",
      "<input class=\"gabtn\" data-cinema=\"40288eb0050f31210ada0f55676b1bbc\" data-date=\"1577980800\" data-ezding=\"ezding\" data-ga=\"['電影頁_時刻表', '電影頁_時刻表_場次', '葉問4：完結篇']\" data-movie=\"6ae85d5469e64576be07146ba1e357da\" data-movie_date=\"01.03\" data-movie_time=\"15:40\" data-movie_title=\"葉問4：完結篇\" data-movie_type=\"數位\" data-session=\"7843a3e756a446f58a5a7cb10ba9273c\" data-time=\"1578037200\" id=\"72684665\" name=\"schedule_list\" type=\"radio\" value=\"2020-01-03 15:40:00\"/>\n",
      "<label class=\"select\" for=\"72684665\">15:40</label>\n",
      "<input class=\"gabtn\" data-cinema=\"40288eb0050f31210ada0f55676b1bbc\" data-date=\"1577980800\" data-ezding=\"ezding\" data-ga=\"['電影頁_時刻表', '電影頁_時刻表_場次', '葉問4：完結篇']\" data-movie=\"6ae85d5469e64576be07146ba1e357da\" data-movie_date=\"01.03\" data-movie_time=\"17:50\" data-movie_title=\"葉問4：完結篇\" data-movie_type=\"數位\" data-session=\"489576041fe84317b1f6176b136d47da\" data-time=\"1578045000\" id=\"72684666\" name=\"schedule_list\" type=\"radio\" value=\"2020-01-03 17:50:00\"/>\n",
      "<label class=\"select\" for=\"72684666\">17:50</label>\n",
      "<input class=\"gabtn\" data-cinema=\"40288eb0050f31210ada0f55676b1bbc\" data-date=\"1577980800\" data-ezding=\"ezding\" data-ga=\"['電影頁_時刻表', '電影頁_時刻表_場次', '葉問4：完結篇']\" data-movie=\"6ae85d5469e64576be07146ba1e357da\" data-movie_date=\"01.03\" data-movie_time=\"19:00\" data-movie_title=\"葉問4：完結篇\" data-movie_type=\"數位\" data-session=\"4d19a8089f9f4e20a504b9d273df0a0d\" data-time=\"1578049200\" id=\"72684667\" name=\"schedule_list\" type=\"radio\" value=\"2020-01-03 19:00:00\"/>\n",
      "<label class=\"select\" for=\"72684667\">19:00</label>\n",
      "<input class=\"gabtn\" data-cinema=\"40288eb0050f31210ada0f55676b1bbc\" data-date=\"1577980800\" data-ezding=\"ezding\" data-ga=\"['電影頁_時刻表', '電影頁_時刻表_場次', '葉問4：完結篇']\" data-movie=\"6ae85d5469e64576be07146ba1e357da\" data-movie_date=\"01.03\" data-movie_time=\"20:00\" data-movie_title=\"葉問4：完結篇\" data-movie_type=\"數位\" data-session=\"af004c1a6ecb447ba6c1638727a9bd39\" data-time=\"1578052800\" id=\"72684668\" name=\"schedule_list\" type=\"radio\" value=\"2020-01-03 20:00:00\"/>\n",
      "<label class=\"select\" for=\"72684668\">20:00</label>\n",
      "<input class=\"gabtn\" data-cinema=\"40288eb0050f31210ada0f55676b1bbc\" data-date=\"1577980800\" data-ezding=\"ezding\" data-ga=\"['電影頁_時刻表', '電影頁_時刻表_場次', '葉問4：完結篇']\" data-movie=\"6ae85d5469e64576be07146ba1e357da\" data-movie_date=\"01.03\" data-movie_time=\"21:10\" data-movie_title=\"葉問4：完結篇\" data-movie_type=\"數位\" data-session=\"57dd84a31fd747eead30182827420e31\" data-time=\"1578057000\" id=\"72684669\" name=\"schedule_list\" type=\"radio\" value=\"2020-01-03 21:10:00\"/>\n",
      "<label class=\"select\" for=\"72684669\">21:10</label>\n",
      "<input class=\"gabtn\" data-cinema=\"40288eb0050f31210ada0f55676b1bbc\" data-date=\"1577980800\" data-ezding=\"ezding\" data-ga=\"['電影頁_時刻表', '電影頁_時刻表_場次', '葉問4：完結篇']\" data-movie=\"6ae85d5469e64576be07146ba1e357da\" data-movie_date=\"01.03\" data-movie_time=\"22:10\" data-movie_title=\"葉問4：完結篇\" data-movie_type=\"數位\" data-session=\"35d5ba135f694753a5969c211cbc99ba\" data-time=\"1578060600\" id=\"72684670\" name=\"schedule_list\" type=\"radio\" value=\"2020-01-03 22:10:00\"/>\n",
      "<label class=\"select\" for=\"72684670\">22:10</label>\n",
      "<input class=\"gabtn\" data-cinema=\"40288eb0050f31210ada0f55676b1bbc\" data-date=\"1577980800\" data-ezding=\"ezding\" data-ga=\"['電影頁_時刻表', '電影頁_時刻表_場次', '葉問4：完結篇']\" data-movie=\"6ae85d5469e64576be07146ba1e357da\" data-movie_date=\"01.03\" data-movie_time=\"23:20\" data-movie_title=\"葉問4：完結篇\" data-movie_type=\"數位\" data-session=\"053088dccada41be969a2d30a19ef447\" data-time=\"1578064800\" id=\"72684671\" name=\"schedule_list\" type=\"radio\" value=\"2020-01-03 23:20:00\"/>\n",
      "<label class=\"select\" for=\"72684671\">23:20</label>\n",
      "<input class=\"gabtn\" data-cinema=\"40288eb0050f31210ada0f55676b1bbc\" data-date=\"1577980800\" data-ezding=\"ezding\" data-ga=\"['電影頁_時刻表', '電影頁_時刻表_場次', '葉問4：完結篇']\" data-movie=\"6ae85d5469e64576be07146ba1e357da\" data-movie_date=\"01.04\" data-movie_time=\"00:20\" data-movie_title=\"葉問4：完結篇\" data-movie_type=\"數位\" data-session=\"cb267222da2140b890c58324cd71569d\" data-time=\"1578068400\" id=\"72684672\" name=\"schedule_list\" type=\"radio\" value=\"2020-01-04 00:20:00\"/>\n",
      "<label class=\"select\" for=\"72684672\">00:20</label>\n",
      "</div>\n",
      "</li>\n",
      "</ul>, <ul class=\"area_time _c jq_area_time\" data-theater_name=\"台北in89豪華數位影城\" data-theater_schedules=\"https://movies.yahoo.com.tw/theater_result.html/id=36\" data-theater_url=\"http://www.in89.com.tw/website_module.php?website_module_classify_sn=39\" id=\"theater_id_36\">\n",
      "<li class=\"adds\">\n",
      "<a href=\"https://movies.yahoo.com.tw/theater_result.html/id=36\">台北in89豪華數位影城</a>\n",
      "<span>02-23315077</span>\n",
      "</li>\n",
      "<li class=\"taps\">\n",
      "<span class=\"tapR\">數位</span> </li>\n",
      "<li class=\"time _c\">\n",
      "<div class=\"input_picker jq_input_picker\">\n",
      "<input class=\"gabtn\" data-cinema=\"e9c365f27f4e11e494ae8b4ddf78b93a\" data-date=\"1577980800\" data-ezding=\"ezding\" data-ga=\"['電影頁_時刻表', '電影頁_時刻表_場次', '葉問4：完結篇']\" data-movie=\"bc4678945df445f3ab139a7fd6f46b91\" data-movie_date=\"01.03\" data-movie_time=\"09:20\" data-movie_title=\"葉問4：完結篇\" data-movie_type=\"數位\" data-session=\"33494afdc0f0439bb26a74b355058b56\" data-time=\"1578014400\" id=\"72696077\" name=\"schedule_list\" type=\"radio\" value=\"2020-01-03 09:20:00\"/>\n",
      "<label class=\"select\" for=\"72696077\">09:20</label>\n",
      "<input class=\"gabtn\" data-cinema=\"e9c365f27f4e11e494ae8b4ddf78b93a\" data-date=\"1577980800\" data-ezding=\"ezding\" data-ga=\"['電影頁_時刻表', '電影頁_時刻表_場次', '葉問4：完結篇']\" data-movie=\"bc4678945df445f3ab139a7fd6f46b91\" data-movie_date=\"01.03\" data-movie_time=\"11:20\" data-movie_title=\"葉問4：完結篇\" data-movie_type=\"數位\" data-session=\"12c73c7441c34cd9ba413e7784bf6d98\" data-time=\"1578021600\" id=\"72696078\" name=\"schedule_list\" type=\"radio\" value=\"2020-01-03 11:20:00\"/>\n",
      "<label class=\"select\" for=\"72696078\">11:20</label>\n",
      "<input class=\"gabtn\" data-cinema=\"e9c365f27f4e11e494ae8b4ddf78b93a\" data-date=\"1577980800\" data-ezding=\"ezding\" data-ga=\"['電影頁_時刻表', '電影頁_時刻表_場次', '葉問4：完結篇']\" data-movie=\"bc4678945df445f3ab139a7fd6f46b91\" data-movie_date=\"01.03\" data-movie_time=\"13:20\" data-movie_title=\"葉問4：完結篇\" data-movie_type=\"數位\" data-session=\"c6816eaef2f24e3a91d6fa5dac4fb9a6\" data-time=\"1578028800\" id=\"72696079\" name=\"schedule_list\" type=\"radio\" value=\"2020-01-03 13:20:00\"/>\n",
      "<label class=\"select\" for=\"72696079\">13:20</label>\n",
      "<input class=\"gabtn\" data-cinema=\"e9c365f27f4e11e494ae8b4ddf78b93a\" data-date=\"1577980800\" data-ezding=\"ezding\" data-ga=\"['電影頁_時刻表', '電影頁_時刻表_場次', '葉問4：完結篇']\" data-movie=\"bc4678945df445f3ab139a7fd6f46b91\" data-movie_date=\"01.03\" data-movie_time=\"15:20\" data-movie_title=\"葉問4：完結篇\" data-movie_type=\"數位\" data-session=\"70781623ee5e4deebad990ec69ce7465\" data-time=\"1578036000\" id=\"72696080\" name=\"schedule_list\" type=\"radio\" value=\"2020-01-03 15:20:00\"/>\n",
      "<label class=\"select\" for=\"72696080\">15:20</label>\n",
      "<input class=\"gabtn\" data-cinema=\"e9c365f27f4e11e494ae8b4ddf78b93a\" data-date=\"1577980800\" data-ezding=\"ezding\" data-ga=\"['電影頁_時刻表', '電影頁_時刻表_場次', '葉問4：完結篇']\" data-movie=\"bc4678945df445f3ab139a7fd6f46b91\" data-movie_date=\"01.03\" data-movie_time=\"17:20\" data-movie_title=\"葉問4：完結篇\" data-movie_type=\"數位\" data-session=\"7252a613d5da46edb2bcb3d21a69ef18\" data-time=\"1578043200\" id=\"72696081\" name=\"schedule_list\" type=\"radio\" value=\"2020-01-03 17:20:00\"/>\n",
      "<label class=\"select\" for=\"72696081\">17:20</label>\n",
      "<input class=\"gabtn\" data-cinema=\"e9c365f27f4e11e494ae8b4ddf78b93a\" data-date=\"1577980800\" data-ezding=\"ezding\" data-ga=\"['電影頁_時刻表', '電影頁_時刻表_場次', '葉問4：完結篇']\" data-movie=\"bc4678945df445f3ab139a7fd6f46b91\" data-movie_date=\"01.03\" data-movie_time=\"19:20\" data-movie_title=\"葉問4：完結篇\" data-movie_type=\"數位\" data-session=\"4dc8454ceda141119d0a2e25586f0fee\" data-time=\"1578050400\" id=\"72696082\" name=\"schedule_list\" type=\"radio\" value=\"2020-01-03 19:20:00\"/>\n",
      "<label class=\"select\" for=\"72696082\">19:20</label>\n",
      "<input class=\"gabtn\" data-cinema=\"e9c365f27f4e11e494ae8b4ddf78b93a\" data-date=\"1577980800\" data-ezding=\"ezding\" data-ga=\"['電影頁_時刻表', '電影頁_時刻表_場次', '葉問4：完結篇']\" data-movie=\"bc4678945df445f3ab139a7fd6f46b91\" data-movie_date=\"01.03\" data-movie_time=\"21:20\" data-movie_title=\"葉問4：完結篇\" data-movie_type=\"數位\" data-session=\"7ef3c0d19cfc4ca0af04a2d09395eec9\" data-time=\"1578057600\" id=\"72696083\" name=\"schedule_list\" type=\"radio\" value=\"2020-01-03 21:20:00\"/>\n",
      "<label class=\"select\" for=\"72696083\">21:20</label>\n",
      "<input class=\"gabtn\" data-cinema=\"e9c365f27f4e11e494ae8b4ddf78b93a\" data-date=\"1577980800\" data-ezding=\"ezding\" data-ga=\"['電影頁_時刻表', '電影頁_時刻表_場次', '葉問4：完結篇']\" data-movie=\"bc4678945df445f3ab139a7fd6f46b91\" data-movie_date=\"01.03\" data-movie_time=\"23:20\" data-movie_title=\"葉問4：完結篇\" data-movie_type=\"數位\" data-session=\"301f2d8fad04484b9f3b2aaed7200c40\" data-time=\"1578064800\" id=\"72696084\" name=\"schedule_list\" type=\"radio\" value=\"2020-01-03 23:20:00\"/>\n",
      "<label class=\"select\" for=\"72696084\">23:20</label>\n",
      "<input class=\"gabtn\" data-cinema=\"e9c365f27f4e11e494ae8b4ddf78b93a\" data-date=\"1577980800\" data-ezding=\"ezding\" data-ga=\"['電影頁_時刻表', '電影頁_時刻表_場次', '葉問4：完結篇']\" data-movie=\"bc4678945df445f3ab139a7fd6f46b91\" data-movie_date=\"01.04\" data-movie_time=\"01:20\" data-movie_title=\"葉問4：完結篇\" data-movie_type=\"數位\" data-session=\"9bb9f16f2d8942a488617a62af4553d9\" data-time=\"1578072000\" id=\"72696085\" name=\"schedule_list\" type=\"radio\" value=\"2020-01-04 01:20:00\"/>\n",
      "<label class=\"select\" for=\"72696085\">01:20</label>\n",
      "</div>\n",
      "</li>\n",
      "</ul>, <ul class=\"area_time _c jq_area_time\" data-theater_name=\"台北日新威秀影城\" data-theater_schedules=\"https://movies.yahoo.com.tw/theater_result.html/id=39\" data-theater_url=\"http://www.vscinemas.com.tw/\" id=\"theater_id_39\">\n",
      "<li class=\"adds\">\n",
      "<a href=\"https://movies.yahoo.com.tw/theater_result.html/id=39\">台北日新威秀影城</a>\n",
      "<span>02-23315256</span>\n",
      "</li>\n",
      "<li class=\"taps\">\n",
      "<span class=\"tapR\">數位</span> </li>\n",
      "<li class=\"time _c\">\n",
      "<div class=\"input_picker jq_input_picker\">\n",
      "<input class=\"gabtn\" data-cinema=\"40288eb0050f542401050f551a8a48c3\" data-date=\"1577980800\" data-ezding=\"ezding\" data-ga=\"['電影頁_時刻表', '電影頁_時刻表_場次', '葉問4：完結篇']\" data-movie=\"0aa1f6e9f96548a9a940f5c35983d963\" data-movie_date=\"01.03\" data-movie_time=\"11:00\" data-movie_title=\"葉問4：完結篇\" data-movie_type=\"數位\" data-session=\"4812df770bfe42ca8dae04155bf2d89b\" data-time=\"1578020400\" id=\"72690320\" name=\"schedule_list\" type=\"radio\" value=\"2020-01-03 11:00:00\"/>\n",
      "<label class=\"select\" for=\"72690320\">11:00</label>\n",
      "<input class=\"gabtn\" data-cinema=\"40288eb0050f542401050f551a8a48c3\" data-date=\"1577980800\" data-ezding=\"ezding\" data-ga=\"['電影頁_時刻表', '電影頁_時刻表_場次', '葉問4：完結篇']\" data-movie=\"0aa1f6e9f96548a9a940f5c35983d963\" data-movie_date=\"01.03\" data-movie_time=\"13:00\" data-movie_title=\"葉問4：完結篇\" data-movie_type=\"數位\" data-session=\"458ded735005452ebc9564287172950a\" data-time=\"1578027600\" id=\"72690321\" name=\"schedule_list\" type=\"radio\" value=\"2020-01-03 13:00:00\"/>\n",
      "<label class=\"select\" for=\"72690321\">13:00</label>\n",
      "<input class=\"gabtn\" data-cinema=\"40288eb0050f542401050f551a8a48c3\" data-date=\"1577980800\" data-ezding=\"ezding\" data-ga=\"['電影頁_時刻表', '電影頁_時刻表_場次', '葉問4：完結篇']\" data-movie=\"0aa1f6e9f96548a9a940f5c35983d963\" data-movie_date=\"01.03\" data-movie_time=\"15:00\" data-movie_title=\"葉問4：完結篇\" data-movie_type=\"數位\" data-session=\"8e6a99b9c04c45dcbd7a15ddf57cb596\" data-time=\"1578034800\" id=\"72690322\" name=\"schedule_list\" type=\"radio\" value=\"2020-01-03 15:00:00\"/>\n",
      "<label class=\"select\" for=\"72690322\">15:00</label>\n",
      "<input class=\"gabtn\" data-cinema=\"40288eb0050f542401050f551a8a48c3\" data-date=\"1577980800\" data-ezding=\"ezding\" data-ga=\"['電影頁_時刻表', '電影頁_時刻表_場次', '葉問4：完結篇']\" data-movie=\"0aa1f6e9f96548a9a940f5c35983d963\" data-movie_date=\"01.03\" data-movie_time=\"17:00\" data-movie_title=\"葉問4：完結篇\" data-movie_type=\"數位\" data-session=\"406e294c8ef44637b24f0556c776c953\" data-time=\"1578042000\" id=\"72690323\" name=\"schedule_list\" type=\"radio\" value=\"2020-01-03 17:00:00\"/>\n",
      "<label class=\"select\" for=\"72690323\">17:00</label>\n",
      "<input class=\"gabtn\" data-cinema=\"40288eb0050f542401050f551a8a48c3\" data-date=\"1577980800\" data-ezding=\"ezding\" data-ga=\"['電影頁_時刻表', '電影頁_時刻表_場次', '葉問4：完結篇']\" data-movie=\"0aa1f6e9f96548a9a940f5c35983d963\" data-movie_date=\"01.03\" data-movie_time=\"19:00\" data-movie_title=\"葉問4：完結篇\" data-movie_type=\"數位\" data-session=\"86df154a4926414da7557080a77036ad\" data-time=\"1578049200\" id=\"72690324\" name=\"schedule_list\" type=\"radio\" value=\"2020-01-03 19:00:00\"/>\n",
      "<label class=\"select\" for=\"72690324\">19:00</label>\n",
      "<input class=\"gabtn\" data-cinema=\"40288eb0050f542401050f551a8a48c3\" data-date=\"1577980800\" data-ezding=\"ezding\" data-ga=\"['電影頁_時刻表', '電影頁_時刻表_場次', '葉問4：完結篇']\" data-movie=\"0aa1f6e9f96548a9a940f5c35983d963\" data-movie_date=\"01.03\" data-movie_time=\"21:00\" data-movie_title=\"葉問4：完結篇\" data-movie_type=\"數位\" data-session=\"ecd5b8d6498f4cae830fc77dd87104f8\" data-time=\"1578056400\" id=\"72690325\" name=\"schedule_list\" type=\"radio\" value=\"2020-01-03 21:00:00\"/>\n",
      "<label class=\"select\" for=\"72690325\">21:00</label>\n",
      "<input class=\"gabtn\" data-cinema=\"40288eb0050f542401050f551a8a48c3\" data-date=\"1577980800\" data-ezding=\"ezding\" data-ga=\"['電影頁_時刻表', '電影頁_時刻表_場次', '葉問4：完結篇']\" data-movie=\"0aa1f6e9f96548a9a940f5c35983d963\" data-movie_date=\"01.03\" data-movie_time=\"23:00\" data-movie_title=\"葉問4：完結篇\" data-movie_type=\"數位\" data-session=\"b8aa1c8bdbd34dbebde3fc84c74be003\" data-time=\"1578063600\" id=\"72690326\" name=\"schedule_list\" type=\"radio\" value=\"2020-01-03 23:00:00\"/>\n",
      "<label class=\"select\" for=\"72690326\">23:00</label>\n",
      "<input class=\"gabtn\" data-cinema=\"40288eb0050f542401050f551a8a48c3\" data-date=\"1577980800\" data-ezding=\"ezding\" data-ga=\"['電影頁_時刻表', '電影頁_時刻表_場次', '葉問4：完結篇']\" data-movie=\"0aa1f6e9f96548a9a940f5c35983d963\" data-movie_date=\"01.04\" data-movie_time=\"01:00\" data-movie_title=\"葉問4：完結篇\" data-movie_type=\"數位\" data-session=\"d9377e953a6345c1b4cbff2e29449676\" data-time=\"1578070800\" id=\"72690327\" name=\"schedule_list\" type=\"radio\" value=\"2020-01-04 01:00:00\"/>\n",
      "<label class=\"select\" for=\"72690327\">01:00</label>\n",
      "</div>\n",
      "</li>\n",
      "</ul>, <ul class=\"area_time _c jq_area_time\" data-theater_name=\"台北信義威秀影城\" data-theater_schedules=\"https://movies.yahoo.com.tw/theater_result.html/id=45\" data-theater_url=\"http://www.vscinemas.com.tw/\" id=\"theater_id_45\">\n",
      "<li class=\"adds\">\n",
      "<a href=\"https://movies.yahoo.com.tw/theater_result.html/id=45\">台北信義威秀影城</a>\n",
      "<span>02-87805566</span>\n",
      "</li>\n",
      "<li class=\"taps\">\n",
      "<span class=\"tapR\">數位</span> </li>\n",
      "<li class=\"time _c\">\n",
      "<div class=\"input_picker jq_input_picker\">\n",
      "<input class=\"gabtn\" data-cinema=\"40288eb0050f542401050f554e7e0674\" data-date=\"1577980800\" data-ezding=\"ezding\" data-ga=\"['電影頁_時刻表', '電影頁_時刻表_場次', '葉問4：完結篇']\" data-movie=\"5b6c502ca8444900becdef7cbc7b090a\" data-movie_date=\"01.03\" data-movie_time=\"09:00\" data-movie_title=\"葉問4：完結篇\" data-movie_type=\"數位\" data-session=\"75d5b1882d674f758d130fefeb320531\" data-time=\"1578013200\" id=\"72696570\" name=\"schedule_list\" type=\"radio\" value=\"2020-01-03 09:00:00\"/>\n",
      "<label class=\"select\" for=\"72696570\">09:00</label>\n",
      "<input class=\"gabtn\" data-cinema=\"40288eb0050f542401050f554e7e0674\" data-date=\"1577980800\" data-ezding=\"ezding\" data-ga=\"['電影頁_時刻表', '電影頁_時刻表_場次', '葉問4：完結篇']\" data-movie=\"5b6c502ca8444900becdef7cbc7b090a\" data-movie_date=\"01.03\" data-movie_time=\"10:00\" data-movie_title=\"葉問4：完結篇\" data-movie_type=\"數位\" data-session=\"deeef092e3dd4129b0e677f8ad917873\" data-time=\"1578016800\" id=\"72696571\" name=\"schedule_list\" type=\"radio\" value=\"2020-01-03 10:00:00\"/>\n",
      "<label class=\"select\" for=\"72696571\">10:00</label>\n",
      "<input class=\"gabtn\" data-cinema=\"40288eb0050f542401050f554e7e0674\" data-date=\"1577980800\" data-ezding=\"ezding\" data-ga=\"['電影頁_時刻表', '電影頁_時刻表_場次', '葉問4：完結篇']\" data-movie=\"5b6c502ca8444900becdef7cbc7b090a\" data-movie_date=\"01.03\" data-movie_time=\"11:05\" data-movie_title=\"葉問4：完結篇\" data-movie_type=\"數位\" data-session=\"755aaa1c48f54c2dbfe6dda0268b01b7\" data-time=\"1578020700\" id=\"72696572\" name=\"schedule_list\" type=\"radio\" value=\"2020-01-03 11:05:00\"/>\n",
      "<label class=\"select\" for=\"72696572\">11:05</label>\n",
      "<input class=\"gabtn\" data-cinema=\"40288eb0050f542401050f554e7e0674\" data-date=\"1577980800\" data-ezding=\"ezding\" data-ga=\"['電影頁_時刻表', '電影頁_時刻表_場次', '葉問4：完結篇']\" data-movie=\"5b6c502ca8444900becdef7cbc7b090a\" data-movie_date=\"01.03\" data-movie_time=\"12:05\" data-movie_title=\"葉問4：完結篇\" data-movie_type=\"數位\" data-session=\"bd1eb36f38924158a200eee0d180486a\" data-time=\"1578024300\" id=\"72696573\" name=\"schedule_list\" type=\"radio\" value=\"2020-01-03 12:05:00\"/>\n",
      "<label class=\"select\" for=\"72696573\">12:05</label>\n",
      "<input class=\"gabtn\" data-cinema=\"40288eb0050f542401050f554e7e0674\" data-date=\"1577980800\" data-ezding=\"ezding\" data-ga=\"['電影頁_時刻表', '電影頁_時刻表_場次', '葉問4：完結篇']\" data-movie=\"5b6c502ca8444900becdef7cbc7b090a\" data-movie_date=\"01.03\" data-movie_time=\"13:10\" data-movie_title=\"葉問4：完結篇\" data-movie_type=\"數位\" data-session=\"b423d691a6ce4001b08d8326a097783e\" data-time=\"1578028200\" id=\"72696574\" name=\"schedule_list\" type=\"radio\" value=\"2020-01-03 13:10:00\"/>\n",
      "<label class=\"select\" for=\"72696574\">13:10</label>\n",
      "<input class=\"gabtn\" data-cinema=\"40288eb0050f542401050f554e7e0674\" data-date=\"1577980800\" data-ezding=\"ezding\" data-ga=\"['電影頁_時刻表', '電影頁_時刻表_場次', '葉問4：完結篇']\" data-movie=\"5b6c502ca8444900becdef7cbc7b090a\" data-movie_date=\"01.03\" data-movie_time=\"14:10\" data-movie_title=\"葉問4：完結篇\" data-movie_type=\"數位\" data-session=\"a4c0e620ca804ea99f99f30e1845fa42\" data-time=\"1578031800\" id=\"72696575\" name=\"schedule_list\" type=\"radio\" value=\"2020-01-03 14:10:00\"/>\n",
      "<label class=\"select\" for=\"72696575\">14:10</label>\n",
      "<input class=\"gabtn\" data-cinema=\"40288eb0050f542401050f554e7e0674\" data-date=\"1577980800\" data-ezding=\"ezding\" data-ga=\"['電影頁_時刻表', '電影頁_時刻表_場次', '葉問4：完結篇']\" data-movie=\"5b6c502ca8444900becdef7cbc7b090a\" data-movie_date=\"01.03\" data-movie_time=\"15:15\" data-movie_title=\"葉問4：完結篇\" data-movie_type=\"數位\" data-session=\"6a9e9ceb787f4ec48a84463f3a6bb3d6\" data-time=\"1578035700\" id=\"72696576\" name=\"schedule_list\" type=\"radio\" value=\"2020-01-03 15:15:00\"/>\n",
      "<label class=\"select\" for=\"72696576\">15:15</label>\n",
      "<input class=\"gabtn\" data-cinema=\"40288eb0050f542401050f554e7e0674\" data-date=\"1577980800\" data-ezding=\"ezding\" data-ga=\"['電影頁_時刻表', '電影頁_時刻表_場次', '葉問4：完結篇']\" data-movie=\"5b6c502ca8444900becdef7cbc7b090a\" data-movie_date=\"01.03\" data-movie_time=\"16:15\" data-movie_title=\"葉問4：完結篇\" data-movie_type=\"數位\" data-session=\"5b4aa5e18d364d1884996ce0f0eb8604\" data-time=\"1578039300\" id=\"72696577\" name=\"schedule_list\" type=\"radio\" value=\"2020-01-03 16:15:00\"/>\n",
      "<label class=\"select\" for=\"72696577\">16:15</label>\n",
      "<input class=\"gabtn\" data-cinema=\"40288eb0050f542401050f554e7e0674\" data-date=\"1577980800\" data-ezding=\"ezding\" data-ga=\"['電影頁_時刻表', '電影頁_時刻表_場次', '葉問4：完結篇']\" data-movie=\"5b6c502ca8444900becdef7cbc7b090a\" data-movie_date=\"01.03\" data-movie_time=\"17:20\" data-movie_title=\"葉問4：完結篇\" data-movie_type=\"數位\" data-session=\"f85526760bd54594b5df72e4ef5a5a79\" data-time=\"1578043200\" id=\"72696578\" name=\"schedule_list\" type=\"radio\" value=\"2020-01-03 17:20:00\"/>\n",
      "<label class=\"select\" for=\"72696578\">17:20</label>\n",
      "<input class=\"gabtn\" data-cinema=\"40288eb0050f542401050f554e7e0674\" data-date=\"1577980800\" data-ezding=\"ezding\" data-ga=\"['電影頁_時刻表', '電影頁_時刻表_場次', '葉問4：完結篇']\" data-movie=\"5b6c502ca8444900becdef7cbc7b090a\" data-movie_date=\"01.03\" data-movie_time=\"17:50\" data-movie_title=\"葉問4：完結篇\" data-movie_type=\"數位\" data-session=\"bd096eeb0b634f6cb701cf2453aa1486\" data-time=\"1578045000\" id=\"72696579\" name=\"schedule_list\" type=\"radio\" value=\"2020-01-03 17:50:00\"/>\n",
      "<label class=\"select\" for=\"72696579\">17:50</label>\n",
      "<input class=\"gabtn\" data-cinema=\"40288eb0050f542401050f554e7e0674\" data-date=\"1577980800\" data-ezding=\"ezding\" data-ga=\"['電影頁_時刻表', '電影頁_時刻表_場次', '葉問4：完結篇']\" data-movie=\"5b6c502ca8444900becdef7cbc7b090a\" data-movie_date=\"01.03\" data-movie_time=\"18:20\" data-movie_title=\"葉問4：完結篇\" data-movie_type=\"數位\" data-session=\"5880064324bc448ba91fff3b29db3001\" data-time=\"1578046800\" id=\"72696580\" name=\"schedule_list\" type=\"radio\" value=\"2020-01-03 18:20:00\"/>\n",
      "<label class=\"select\" for=\"72696580\">18:20</label>\n",
      "<input class=\"gabtn\" data-cinema=\"40288eb0050f542401050f554e7e0674\" data-date=\"1577980800\" data-ezding=\"ezding\" data-ga=\"['電影頁_時刻表', '電影頁_時刻表_場次', '葉問4：完結篇']\" data-movie=\"5b6c502ca8444900becdef7cbc7b090a\" data-movie_date=\"01.03\" data-movie_time=\"19:25\" data-movie_title=\"葉問4：完結篇\" data-movie_type=\"數位\" data-session=\"00b6d7c0b87c42468d44fa16367f778d\" data-time=\"1578050700\" id=\"72696581\" name=\"schedule_list\" type=\"radio\" value=\"2020-01-03 19:25:00\"/>\n",
      "<label class=\"select\" for=\"72696581\">19:25</label>\n",
      "<input class=\"gabtn\" data-cinema=\"40288eb0050f542401050f554e7e0674\" data-date=\"1577980800\" data-ezding=\"ezding\" data-ga=\"['電影頁_時刻表', '電影頁_時刻表_場次', '葉問4：完結篇']\" data-movie=\"5b6c502ca8444900becdef7cbc7b090a\" data-movie_date=\"01.03\" data-movie_time=\"20:25\" data-movie_title=\"葉問4：完結篇\" data-movie_type=\"數位\" data-session=\"62d313f18ad1477eb3018b6ac505addb\" data-time=\"1578054300\" id=\"72696582\" name=\"schedule_list\" type=\"radio\" value=\"2020-01-03 20:25:00\"/>\n",
      "<label class=\"select\" for=\"72696582\">20:25</label>\n",
      "<input class=\"gabtn\" data-cinema=\"40288eb0050f542401050f554e7e0674\" data-date=\"1577980800\" data-ezding=\"ezding\" data-ga=\"['電影頁_時刻表', '電影頁_時刻表_場次', '葉問4：完結篇']\" data-movie=\"5b6c502ca8444900becdef7cbc7b090a\" data-movie_date=\"01.03\" data-movie_time=\"21:30\" data-movie_title=\"葉問4：完結篇\" data-movie_type=\"數位\" data-session=\"21421197f96a4860b160f46e2c236085\" data-time=\"1578058200\" id=\"72696583\" name=\"schedule_list\" type=\"radio\" value=\"2020-01-03 21:30:00\"/>\n",
      "<label class=\"select\" for=\"72696583\">21:30</label>\n",
      "<input class=\"gabtn\" data-cinema=\"40288eb0050f542401050f554e7e0674\" data-date=\"1577980800\" data-ezding=\"ezding\" data-ga=\"['電影頁_時刻表', '電影頁_時刻表_場次', '葉問4：完結篇']\" data-movie=\"5b6c502ca8444900becdef7cbc7b090a\" data-movie_date=\"01.03\" data-movie_time=\"22:30\" data-movie_title=\"葉問4：完結篇\" data-movie_type=\"數位\" data-session=\"3c2cb47e8dc741edb57902d36b0c8292\" data-time=\"1578061800\" id=\"72696584\" name=\"schedule_list\" type=\"radio\" value=\"2020-01-03 22:30:00\"/>\n",
      "<label class=\"select\" for=\"72696584\">22:30</label>\n",
      "<input class=\"gabtn\" data-cinema=\"40288eb0050f542401050f554e7e0674\" data-date=\"1577980800\" data-ezding=\"ezding\" data-ga=\"['電影頁_時刻表', '電影頁_時刻表_場次', '葉問4：完結篇']\" data-movie=\"5b6c502ca8444900becdef7cbc7b090a\" data-movie_date=\"01.03\" data-movie_time=\"23:35\" data-movie_title=\"葉問4：完結篇\" data-movie_type=\"數位\" data-session=\"d2b6df78527945fcbddcb385319bf2f8\" data-time=\"1578065700\" id=\"72696585\" name=\"schedule_list\" type=\"radio\" value=\"2020-01-03 23:35:00\"/>\n",
      "<label class=\"select\" for=\"72696585\">23:35</label>\n",
      "<input class=\"gabtn\" data-cinema=\"40288eb0050f542401050f554e7e0674\" data-date=\"1577980800\" data-ezding=\"ezding\" data-ga=\"['電影頁_時刻表', '電影頁_時刻表_場次', '葉問4：完結篇']\" data-movie=\"5b6c502ca8444900becdef7cbc7b090a\" data-movie_date=\"01.04\" data-movie_time=\"00:35\" data-movie_title=\"葉問4：完結篇\" data-movie_type=\"數位\" data-session=\"8fc70559a4e6447b90697418215877a7\" data-time=\"1578069300\" id=\"72696586\" name=\"schedule_list\" type=\"radio\" value=\"2020-01-04 00:35:00\"/>\n",
      "<label class=\"select\" for=\"72696586\">00:35</label>\n",
      "<input class=\"gabtn\" data-cinema=\"40288eb0050f542401050f554e7e0674\" data-date=\"1577980800\" data-ezding=\"ezding\" data-ga=\"['電影頁_時刻表', '電影頁_時刻表_場次', '葉問4：完結篇']\" data-movie=\"5b6c502ca8444900becdef7cbc7b090a\" data-movie_date=\"01.04\" data-movie_time=\"01:40\" data-movie_title=\"葉問4：完結篇\" data-movie_type=\"數位\" data-session=\"a2a66c5e073a4e999be808585b79c51c\" data-time=\"1578073200\" id=\"72696587\" name=\"schedule_list\" type=\"radio\" value=\"2020-01-04 01:40:00\"/>\n",
      "<label class=\"select\" for=\"72696587\">01:40</label>\n",
      "</div>\n",
      "</li>\n",
      "</ul>, <ul class=\"area_time _c jq_area_time\" data-theater_name=\"京站威秀影城\" data-theater_schedules=\"https://movies.yahoo.com.tw/theater_result.html/id=118\" data-theater_url=\"http://www.vscinemas.com.tw/\" id=\"theater_id_118\">\n",
      "<li class=\"adds\">\n",
      "<a href=\"https://movies.yahoo.com.tw/theater_result.html/id=118\">京站威秀影城</a>\n",
      "<span>02-25525511</span>\n",
      "</li>\n",
      "<li class=\"taps\">\n",
      "<span class=\"tapR\">數位</span> </li>\n",
      "<li class=\"time _c\">\n",
      "<div class=\"input_picker jq_input_picker\">\n",
      "<input class=\"gabtn\" data-cinema=\"5f60dacd-45b3-102d-8d74-e400529c\" data-date=\"1577980800\" data-ezding=\"ezding\" data-ga=\"['電影頁_時刻表', '電影頁_時刻表_場次', '葉問4：完結篇']\" data-movie=\"44f021978c9040b0afad9da07c392169\" data-movie_date=\"01.03\" data-movie_time=\"09:35\" data-movie_title=\"葉問4：完結篇\" data-movie_type=\"數位\" data-session=\"9365843b45b642ed887b5756ab9a8ba1\" data-time=\"1578015300\" id=\"72695893\" name=\"schedule_list\" type=\"radio\" value=\"2020-01-03 09:35:00\"/>\n",
      "<label class=\"select\" for=\"72695893\">09:35</label>\n",
      "<input class=\"gabtn\" data-cinema=\"5f60dacd-45b3-102d-8d74-e400529c\" data-date=\"1577980800\" data-ezding=\"ezding\" data-ga=\"['電影頁_時刻表', '電影頁_時刻表_場次', '葉問4：完結篇']\" data-movie=\"44f021978c9040b0afad9da07c392169\" data-movie_date=\"01.03\" data-movie_time=\"11:40\" data-movie_title=\"葉問4：完結篇\" data-movie_type=\"數位\" data-session=\"f6d7e486b0f74303af55d4bc204af43d\" data-time=\"1578022800\" id=\"72695894\" name=\"schedule_list\" type=\"radio\" value=\"2020-01-03 11:40:00\"/>\n",
      "<label class=\"select\" for=\"72695894\">11:40</label>\n",
      "<input class=\"gabtn\" data-cinema=\"5f60dacd-45b3-102d-8d74-e400529c\" data-date=\"1577980800\" data-ezding=\"ezding\" data-ga=\"['電影頁_時刻表', '電影頁_時刻表_場次', '葉問4：完結篇']\" data-movie=\"44f021978c9040b0afad9da07c392169\" data-movie_date=\"01.03\" data-movie_time=\"12:40\" data-movie_title=\"葉問4：完結篇\" data-movie_type=\"數位\" data-session=\"eddba60e12b24613872a66a4f3055a40\" data-time=\"1578026400\" id=\"72695895\" name=\"schedule_list\" type=\"radio\" value=\"2020-01-03 12:40:00\"/>\n",
      "<label class=\"select\" for=\"72695895\">12:40</label>\n",
      "<input class=\"gabtn\" data-cinema=\"5f60dacd-45b3-102d-8d74-e400529c\" data-date=\"1577980800\" data-ezding=\"ezding\" data-ga=\"['電影頁_時刻表', '電影頁_時刻表_場次', '葉問4：完結篇']\" data-movie=\"44f021978c9040b0afad9da07c392169\" data-movie_date=\"01.03\" data-movie_time=\"13:45\" data-movie_title=\"葉問4：完結篇\" data-movie_type=\"數位\" data-session=\"7cbd649d39234ebebe094e70df4fff54\" data-time=\"1578030300\" id=\"72695896\" name=\"schedule_list\" type=\"radio\" value=\"2020-01-03 13:45:00\"/>\n",
      "<label class=\"select\" for=\"72695896\">13:45</label>\n",
      "<input class=\"gabtn\" data-cinema=\"5f60dacd-45b3-102d-8d74-e400529c\" data-date=\"1577980800\" data-ezding=\"ezding\" data-ga=\"['電影頁_時刻表', '電影頁_時刻表_場次', '葉問4：完結篇']\" data-movie=\"44f021978c9040b0afad9da07c392169\" data-movie_date=\"01.03\" data-movie_time=\"15:50\" data-movie_title=\"葉問4：完結篇\" data-movie_type=\"數位\" data-session=\"201223d8f908444bb42f63f5a73bd5fb\" data-time=\"1578037800\" id=\"72695897\" name=\"schedule_list\" type=\"radio\" value=\"2020-01-03 15:50:00\"/>\n",
      "<label class=\"select\" for=\"72695897\">15:50</label>\n",
      "<input class=\"gabtn\" data-cinema=\"5f60dacd-45b3-102d-8d74-e400529c\" data-date=\"1577980800\" data-ezding=\"ezding\" data-ga=\"['電影頁_時刻表', '電影頁_時刻表_場次', '葉問4：完結篇']\" data-movie=\"44f021978c9040b0afad9da07c392169\" data-movie_date=\"01.03\" data-movie_time=\"16:50\" data-movie_title=\"葉問4：完結篇\" data-movie_type=\"數位\" data-session=\"e938e3409dc24cb1b0c43cd21b7432c7\" data-time=\"1578041400\" id=\"72695898\" name=\"schedule_list\" type=\"radio\" value=\"2020-01-03 16:50:00\"/>\n",
      "<label class=\"select\" for=\"72695898\">16:50</label>\n",
      "<input class=\"gabtn\" data-cinema=\"5f60dacd-45b3-102d-8d74-e400529c\" data-date=\"1577980800\" data-ezding=\"ezding\" data-ga=\"['電影頁_時刻表', '電影頁_時刻表_場次', '葉問4：完結篇']\" data-movie=\"44f021978c9040b0afad9da07c392169\" data-movie_date=\"01.03\" data-movie_time=\"17:55\" data-movie_title=\"葉問4：完結篇\" data-movie_type=\"數位\" data-session=\"c863f3a7a43c45428ce31188146331d4\" data-time=\"1578045300\" id=\"72695899\" name=\"schedule_list\" type=\"radio\" value=\"2020-01-03 17:55:00\"/>\n",
      "<label class=\"select\" for=\"72695899\">17:55</label>\n",
      "<input class=\"gabtn\" data-cinema=\"5f60dacd-45b3-102d-8d74-e400529c\" data-date=\"1577980800\" data-ezding=\"ezding\" data-ga=\"['電影頁_時刻表', '電影頁_時刻表_場次', '葉問4：完結篇']\" data-movie=\"44f021978c9040b0afad9da07c392169\" data-movie_date=\"01.03\" data-movie_time=\"19:00\" data-movie_title=\"葉問4：完結篇\" data-movie_type=\"數位\" data-session=\"b13484ec02ae424381d03e8c3e364231\" data-time=\"1578049200\" id=\"72695900\" name=\"schedule_list\" type=\"radio\" value=\"2020-01-03 19:00:00\"/>\n",
      "<label class=\"select\" for=\"72695900\">19:00</label>\n",
      "<input class=\"gabtn\" data-cinema=\"5f60dacd-45b3-102d-8d74-e400529c\" data-date=\"1577980800\" data-ezding=\"ezding\" data-ga=\"['電影頁_時刻表', '電影頁_時刻表_場次', '葉問4：完結篇']\" data-movie=\"44f021978c9040b0afad9da07c392169\" data-movie_date=\"01.03\" data-movie_time=\"20:00\" data-movie_title=\"葉問4：完結篇\" data-movie_type=\"數位\" data-session=\"a7786903e91a45bc9e3486dd94365b0b\" data-time=\"1578052800\" id=\"72695901\" name=\"schedule_list\" type=\"radio\" value=\"2020-01-03 20:00:00\"/>\n",
      "<label class=\"select\" for=\"72695901\">20:00</label>\n",
      "<input class=\"gabtn\" data-cinema=\"5f60dacd-45b3-102d-8d74-e400529c\" data-date=\"1577980800\" data-ezding=\"ezding\" data-ga=\"['電影頁_時刻表', '電影頁_時刻表_場次', '葉問4：完結篇']\" data-movie=\"44f021978c9040b0afad9da07c392169\" data-movie_date=\"01.03\" data-movie_time=\"21:10\" data-movie_title=\"葉問4：完結篇\" data-movie_type=\"數位\" data-session=\"3ca7d635fe8e460ba6e47333b030fa14\" data-time=\"1578057000\" id=\"72695902\" name=\"schedule_list\" type=\"radio\" value=\"2020-01-03 21:10:00\"/>\n",
      "<label class=\"select\" for=\"72695902\">21:10</label>\n",
      "<input class=\"gabtn\" data-cinema=\"5f60dacd-45b3-102d-8d74-e400529c\" data-date=\"1577980800\" data-ezding=\"ezding\" data-ga=\"['電影頁_時刻表', '電影頁_時刻表_場次', '葉問4：完結篇']\" data-movie=\"44f021978c9040b0afad9da07c392169\" data-movie_date=\"01.03\" data-movie_time=\"22:10\" data-movie_title=\"葉問4：完結篇\" data-movie_type=\"數位\" data-session=\"9ac3501fdc2a4fd1b3666bd06a513167\" data-time=\"1578060600\" id=\"72695903\" name=\"schedule_list\" type=\"radio\" value=\"2020-01-03 22:10:00\"/>\n",
      "<label class=\"select\" for=\"72695903\">22:10</label>\n",
      "<input class=\"gabtn\" data-cinema=\"5f60dacd-45b3-102d-8d74-e400529c\" data-date=\"1577980800\" data-ezding=\"ezding\" data-ga=\"['電影頁_時刻表', '電影頁_時刻表_場次', '葉問4：完結篇']\" data-movie=\"44f021978c9040b0afad9da07c392169\" data-movie_date=\"01.03\" data-movie_time=\"23:15\" data-movie_title=\"葉問4：完結篇\" data-movie_type=\"數位\" data-session=\"8070990a87184821abda42de2253ee0b\" data-time=\"1578064500\" id=\"72695904\" name=\"schedule_list\" type=\"radio\" value=\"2020-01-03 23:15:00\"/>\n",
      "<label class=\"select\" for=\"72695904\">23:15</label>\n",
      "<input class=\"gabtn\" data-cinema=\"5f60dacd-45b3-102d-8d74-e400529c\" data-date=\"1577980800\" data-ezding=\"ezding\" data-ga=\"['電影頁_時刻表', '電影頁_時刻表_場次', '葉問4：完結篇']\" data-movie=\"44f021978c9040b0afad9da07c392169\" data-movie_date=\"01.04\" data-movie_time=\"00:15\" data-movie_title=\"葉問4：完結篇\" data-movie_type=\"數位\" data-session=\"876e7b220fe14dbf9ba59df4a1871630\" data-time=\"1578068100\" id=\"72695905\" name=\"schedule_list\" type=\"radio\" value=\"2020-01-04 00:15:00\"/>\n",
      "<label class=\"select\" for=\"72695905\">00:15</label>\n",
      "</div>\n",
      "</li>\n",
      "</ul>, <ul class=\"area_time _c jq_area_time\" data-theater_name=\"梅花數位影院\" data-theater_schedules=\"https://movies.yahoo.com.tw/theater_result.html/id=126\" data-theater_url=\"\" id=\"theater_id_126\">\n",
      "<li class=\"adds\">\n",
      "<a href=\"https://movies.yahoo.com.tw/theater_result.html/id=126\">梅花數位影院</a>\n",
      "<span>02-27326968</span>\n",
      "</li>\n",
      "<li class=\"taps\">\n",
      "<span class=\"tapR\">數位</span> <span class=\"tapB\">粵語</span> </li>\n",
      "<li class=\"time _c\">\n",
      "<div class=\"input_picker jq_input_picker\">\n",
      "<input class=\"gabtn\" data-cinema=\"b020ba50fbc811e58858f2128151146f\" data-date=\"1577980800\" data-ezding=\"ezding\" data-ga=\"['電影頁_時刻表', '電影頁_時刻表_場次', '葉問4：完結篇']\" data-movie=\"7f150a212c8648b385f6a7dd02a4b22b\" data-movie_date=\"01.03\" data-movie_time=\"10:30\" data-movie_title=\"葉問4：完結篇\" data-movie_type=\"數位\" data-session=\"5e2e3edd57384d25a48b18ef6f8398d7\" data-time=\"1578018600\" id=\"72683623\" name=\"schedule_list\" type=\"radio\" value=\"2020-01-03 10:30:00\"/>\n",
      "<label class=\"select\" for=\"72683623\">10:30</label>\n",
      "<input class=\"gabtn\" data-cinema=\"b020ba50fbc811e58858f2128151146f\" data-date=\"1577980800\" data-ezding=\"ezding\" data-ga=\"['電影頁_時刻表', '電影頁_時刻表_場次', '葉問4：完結篇']\" data-movie=\"7f150a212c8648b385f6a7dd02a4b22b\" data-movie_date=\"01.03\" data-movie_time=\"14:50\" data-movie_title=\"葉問4：完結篇\" data-movie_type=\"數位\" data-session=\"f928506e466742728da8bcbd3b30d433\" data-time=\"1578034200\" id=\"72683624\" name=\"schedule_list\" type=\"radio\" value=\"2020-01-03 14:50:00\"/>\n",
      "<label class=\"select\" for=\"72683624\">14:50</label>\n",
      "<input class=\"gabtn\" data-cinema=\"b020ba50fbc811e58858f2128151146f\" data-date=\"1577980800\" data-ezding=\"ezding\" data-ga=\"['電影頁_時刻表', '電影頁_時刻表_場次', '葉問4：完結篇']\" data-movie=\"7f150a212c8648b385f6a7dd02a4b22b\" data-movie_date=\"01.03\" data-movie_time=\"19:30\" data-movie_title=\"葉問4：完結篇\" data-movie_type=\"數位\" data-session=\"29389bc688c64872ac3ee01e4da9f8a7\" data-time=\"1578051000\" id=\"72683625\" name=\"schedule_list\" type=\"radio\" value=\"2020-01-03 19:30:00\"/>\n",
      "<label class=\"select\" for=\"72683625\">19:30</label>\n",
      "</div>\n",
      "</li>\n",
      "</ul>, <ul class=\"area_time _c jq_area_time\" data-theater_name=\"MUVIE CINEMAS台北松仁威秀\" data-theater_schedules=\"https://movies.yahoo.com.tw/theater_result.html/id=254\" data-theater_url=\"https://www.vscinemas.com.tw/vsweb/theater/detail2.aspx?id=23\" id=\"theater_id_254\">\n",
      "<li class=\"adds\">\n",
      "<a href=\"https://movies.yahoo.com.tw/theater_result.html/id=254\">MUVIE CINEMAS台北松仁威秀</a>\n",
      "<span>(02)8780-0800</span>\n",
      "</li>\n",
      "<li class=\"taps\">\n",
      "<span class=\"tapR\">數位</span> </li>\n",
      "<li class=\"time _c\">\n",
      "<div class=\"input_picker jq_input_picker\">\n",
      "<input class=\"gabtn\" data-cinema=\"470e99e70b5611eaa91e06ba2bcebcfa\" data-date=\"1577980800\" data-ezding=\"ezding\" data-ga=\"['電影頁_時刻表', '電影頁_時刻表_場次', '葉問4：完結篇']\" data-movie=\"b0181d2bef664c67837d1067b09b435f\" data-movie_date=\"01.03\" data-movie_time=\"10:00\" data-movie_title=\"葉問4：完結篇\" data-movie_type=\"數位\" data-session=\"d9b6f9a0a04e4663b51fc2287c8962d1\" data-time=\"1578016800\" id=\"72694936\" name=\"schedule_list\" type=\"radio\" value=\"2020-01-03 10:00:00\"/>\n",
      "<label class=\"select\" for=\"72694936\">10:00</label>\n",
      "<input class=\"gabtn\" data-cinema=\"470e99e70b5611eaa91e06ba2bcebcfa\" data-date=\"1577980800\" data-ezding=\"ezding\" data-ga=\"['電影頁_時刻表', '電影頁_時刻表_場次', '葉問4：完結篇']\" data-movie=\"816140d2a91b4c0a82033cbdba3dc46f\" data-movie_date=\"01.03\" data-movie_time=\"11:00\" data-movie_title=\"葉問4：完結篇\" data-movie_type=\"數位\" data-session=\"6ae3ae36618641268160430aebfa28c3\" data-time=\"1578020400\" id=\"72694937\" name=\"schedule_list\" type=\"radio\" value=\"2020-01-03 11:00:00\"/>\n",
      "<label class=\"select\" for=\"72694937\">11:00</label>\n",
      "<input class=\"gabtn\" data-cinema=\"470e99e70b5611eaa91e06ba2bcebcfa\" data-date=\"1577980800\" data-ezding=\"ezding\" data-ga=\"['電影頁_時刻表', '電影頁_時刻表_場次', '葉問4：完結篇']\" data-movie=\"b0181d2bef664c67837d1067b09b435f\" data-movie_date=\"01.03\" data-movie_time=\"14:40\" data-movie_title=\"葉問4：完結篇\" data-movie_type=\"數位\" data-session=\"24625a574d3c42648c5f17e2f5329150\" data-time=\"1578033600\" id=\"72694938\" name=\"schedule_list\" type=\"radio\" value=\"2020-01-03 14:40:00\"/>\n",
      "<label class=\"select\" for=\"72694938\">14:40</label>\n",
      "<input class=\"gabtn\" data-cinema=\"470e99e70b5611eaa91e06ba2bcebcfa\" data-date=\"1577980800\" data-ezding=\"ezding\" data-ga=\"['電影頁_時刻表', '電影頁_時刻表_場次', '葉問4：完結篇']\" data-movie=\"816140d2a91b4c0a82033cbdba3dc46f\" data-movie_date=\"01.03\" data-movie_time=\"15:40\" data-movie_title=\"葉問4：完結篇\" data-movie_type=\"數位\" data-session=\"171c0824aee94c99b81cf98b4c9c1512\" data-time=\"1578037200\" id=\"72694939\" name=\"schedule_list\" type=\"radio\" value=\"2020-01-03 15:40:00\"/>\n",
      "<label class=\"select\" for=\"72694939\">15:40</label>\n",
      "<input class=\"gabtn\" data-cinema=\"470e99e70b5611eaa91e06ba2bcebcfa\" data-date=\"1577980800\" data-ezding=\"ezding\" data-ga=\"['電影頁_時刻表', '電影頁_時刻表_場次', '葉問4：完結篇']\" data-movie=\"b0181d2bef664c67837d1067b09b435f\" data-movie_date=\"01.03\" data-movie_time=\"19:10\" data-movie_title=\"葉問4：完結篇\" data-movie_type=\"數位\" data-session=\"5ce1f7229e974b05abac9590719ba13d\" data-time=\"1578049800\" id=\"72694940\" name=\"schedule_list\" type=\"radio\" value=\"2020-01-03 19:10:00\"/>\n",
      "<label class=\"select\" for=\"72694940\">19:10</label>\n",
      "<input class=\"gabtn\" data-cinema=\"470e99e70b5611eaa91e06ba2bcebcfa\" data-date=\"1577980800\" data-ezding=\"ezding\" data-ga=\"['電影頁_時刻表', '電影頁_時刻表_場次', '葉問4：完結篇']\" data-movie=\"816140d2a91b4c0a82033cbdba3dc46f\" data-movie_date=\"01.03\" data-movie_time=\"20:10\" data-movie_title=\"葉問4：完結篇\" data-movie_type=\"數位\" data-session=\"50fa0ad96e994a528491cfa6fc14b506\" data-time=\"1578053400\" id=\"72694941\" name=\"schedule_list\" type=\"radio\" value=\"2020-01-03 20:10:00\"/>\n",
      "<label class=\"select\" for=\"72694941\">20:10</label>\n",
      "<input class=\"gabtn\" data-cinema=\"470e99e70b5611eaa91e06ba2bcebcfa\" data-date=\"1577980800\" data-ezding=\"ezding\" data-ga=\"['電影頁_時刻表', '電影頁_時刻表_場次', '葉問4：完結篇']\" data-movie=\"b0181d2bef664c67837d1067b09b435f\" data-movie_date=\"01.03\" data-movie_time=\"23:40\" data-movie_title=\"葉問4：完結篇\" data-movie_type=\"數位\" data-session=\"8403a431fd2d46fbabea8ed8e097257c\" data-time=\"1578066000\" id=\"72694942\" name=\"schedule_list\" type=\"radio\" value=\"2020-01-03 23:40:00\"/>\n",
      "<label class=\"select\" for=\"72694942\">23:40</label>\n",
      "<input class=\"gabtn\" data-cinema=\"470e99e70b5611eaa91e06ba2bcebcfa\" data-date=\"1577980800\" data-ezding=\"ezding\" data-ga=\"['電影頁_時刻表', '電影頁_時刻表_場次', '葉問4：完結篇']\" data-movie=\"816140d2a91b4c0a82033cbdba3dc46f\" data-movie_date=\"01.04\" data-movie_time=\"00:40\" data-movie_title=\"葉問4：完結篇\" data-movie_type=\"數位\" data-session=\"57d69ae831ba4f28ba1c81d0f478576c\" data-time=\"1578069600\" id=\"72694943\" name=\"schedule_list\" type=\"radio\" value=\"2020-01-04 00:40:00\"/>\n",
      "<label class=\"select\" for=\"72694943\">00:40</label>\n",
      "</div>\n",
      "</li>\n",
      "</ul>]\n"
     ]
    }
   ],
   "source": [
    "print(type(html))\n",
    "print(html)"
   ]
  },
  {
   "cell_type": "code",
   "execution_count": 55,
   "metadata": {},
   "outputs": [
    {
     "name": "stdout",
     "output_type": "stream",
     "text": [
      "<ul class=\"area_time _c jq_area_time\" data-theater_name=\"台北美麗華大直影城\" data-theater_schedules=\"https://movies.yahoo.com.tw/theater_result.html/id=32\" data-theater_url=\"http://www.miramarcinemas.tw/\" id=\"theater_id_32\">\n",
      "<li class=\"adds\">\n",
      "<a href=\"https://movies.yahoo.com.tw/theater_result.html/id=32\">台北美麗華大直影城</a>\n",
      "<span>02-85022208</span>\n",
      "</li>\n",
      "<li class=\"taps\">\n",
      "<span class=\"tapR\">數位</span> </li>\n",
      "<li class=\"time _c\">\n",
      "<div class=\"input_picker jq_input_picker\">\n",
      "<input class=\"gabtn\" data-cinema=\"40288eb0050f31210ada0f55676b1bbc\" data-date=\"1577980800\" data-ezding=\"ezding\" data-ga=\"['電影頁_時刻表', '電影頁_時刻表_場次', '葉問4：完結篇']\" data-movie=\"6ae85d5469e64576be07146ba1e357da\" data-movie_date=\"01.03\" data-movie_time=\"09:00\" data-movie_title=\"葉問4：完結篇\" data-movie_type=\"數位\" data-session=\"a05eb743977549228f8f16e3014047f7\" data-time=\"1578013200\" id=\"72684660\" name=\"schedule_list\" type=\"radio\" value=\"2020-01-03 09:00:00\"/>\n",
      "<label class=\"select\" for=\"72684660\">09:00</label>\n",
      "<input class=\"gabtn\" data-cinema=\"40288eb0050f31210ada0f55676b1bbc\" data-date=\"1577980800\" data-ezding=\"ezding\" data-ga=\"['電影頁_時刻表', '電影頁_時刻表_場次', '葉問4：完結篇']\" data-movie=\"6ae85d5469e64576be07146ba1e357da\" data-movie_date=\"01.03\" data-movie_time=\"10:00\" data-movie_title=\"葉問4：完結篇\" data-movie_type=\"數位\" data-session=\"dfa48d5e167243c6a422b429db7ada5e\" data-time=\"1578016800\" id=\"72684661\" name=\"schedule_list\" type=\"radio\" value=\"2020-01-03 10:00:00\"/>\n",
      "<label class=\"select\" for=\"72684661\">10:00</label>\n",
      "<input class=\"gabtn\" data-cinema=\"40288eb0050f31210ada0f55676b1bbc\" data-date=\"1577980800\" data-ezding=\"ezding\" data-ga=\"['電影頁_時刻表', '電影頁_時刻表_場次', '葉問4：完結篇']\" data-movie=\"6ae85d5469e64576be07146ba1e357da\" data-movie_date=\"01.03\" data-movie_time=\"11:20\" data-movie_title=\"葉問4：完結篇\" data-movie_type=\"數位\" data-session=\"a910f657e57d42389f3fcae4cf7d98c9\" data-time=\"1578021600\" id=\"72684662\" name=\"schedule_list\" type=\"radio\" value=\"2020-01-03 11:20:00\"/>\n",
      "<label class=\"select\" for=\"72684662\">11:20</label>\n",
      "<input class=\"gabtn\" data-cinema=\"40288eb0050f31210ada0f55676b1bbc\" data-date=\"1577980800\" data-ezding=\"ezding\" data-ga=\"['電影頁_時刻表', '電影頁_時刻表_場次', '葉問4：完結篇']\" data-movie=\"6ae85d5469e64576be07146ba1e357da\" data-movie_date=\"01.03\" data-movie_time=\"13:30\" data-movie_title=\"葉問4：完結篇\" data-movie_type=\"數位\" data-session=\"1caee92193de49cb805f8dcbb544f98d\" data-time=\"1578029400\" id=\"72684663\" name=\"schedule_list\" type=\"radio\" value=\"2020-01-03 13:30:00\"/>\n",
      "<label class=\"select\" for=\"72684663\">13:30</label>\n",
      "<input class=\"gabtn\" data-cinema=\"40288eb0050f31210ada0f55676b1bbc\" data-date=\"1577980800\" data-ezding=\"ezding\" data-ga=\"['電影頁_時刻表', '電影頁_時刻表_場次', '葉問4：完結篇']\" data-movie=\"6ae85d5469e64576be07146ba1e357da\" data-movie_date=\"01.03\" data-movie_time=\"14:25\" data-movie_title=\"葉問4：完結篇\" data-movie_type=\"數位\" data-session=\"de14301018ba4c71b87c26cb08ea2a30\" data-time=\"1578032700\" id=\"72684664\" name=\"schedule_list\" type=\"radio\" value=\"2020-01-03 14:25:00\"/>\n",
      "<label class=\"select\" for=\"72684664\">14:25</label>\n",
      "<input class=\"gabtn\" data-cinema=\"40288eb0050f31210ada0f55676b1bbc\" data-date=\"1577980800\" data-ezding=\"ezding\" data-ga=\"['電影頁_時刻表', '電影頁_時刻表_場次', '葉問4：完結篇']\" data-movie=\"6ae85d5469e64576be07146ba1e357da\" data-movie_date=\"01.03\" data-movie_time=\"15:40\" data-movie_title=\"葉問4：完結篇\" data-movie_type=\"數位\" data-session=\"7843a3e756a446f58a5a7cb10ba9273c\" data-time=\"1578037200\" id=\"72684665\" name=\"schedule_list\" type=\"radio\" value=\"2020-01-03 15:40:00\"/>\n",
      "<label class=\"select\" for=\"72684665\">15:40</label>\n",
      "<input class=\"gabtn\" data-cinema=\"40288eb0050f31210ada0f55676b1bbc\" data-date=\"1577980800\" data-ezding=\"ezding\" data-ga=\"['電影頁_時刻表', '電影頁_時刻表_場次', '葉問4：完結篇']\" data-movie=\"6ae85d5469e64576be07146ba1e357da\" data-movie_date=\"01.03\" data-movie_time=\"17:50\" data-movie_title=\"葉問4：完結篇\" data-movie_type=\"數位\" data-session=\"489576041fe84317b1f6176b136d47da\" data-time=\"1578045000\" id=\"72684666\" name=\"schedule_list\" type=\"radio\" value=\"2020-01-03 17:50:00\"/>\n",
      "<label class=\"select\" for=\"72684666\">17:50</label>\n",
      "<input class=\"gabtn\" data-cinema=\"40288eb0050f31210ada0f55676b1bbc\" data-date=\"1577980800\" data-ezding=\"ezding\" data-ga=\"['電影頁_時刻表', '電影頁_時刻表_場次', '葉問4：完結篇']\" data-movie=\"6ae85d5469e64576be07146ba1e357da\" data-movie_date=\"01.03\" data-movie_time=\"19:00\" data-movie_title=\"葉問4：完結篇\" data-movie_type=\"數位\" data-session=\"4d19a8089f9f4e20a504b9d273df0a0d\" data-time=\"1578049200\" id=\"72684667\" name=\"schedule_list\" type=\"radio\" value=\"2020-01-03 19:00:00\"/>\n",
      "<label class=\"select\" for=\"72684667\">19:00</label>\n",
      "<input class=\"gabtn\" data-cinema=\"40288eb0050f31210ada0f55676b1bbc\" data-date=\"1577980800\" data-ezding=\"ezding\" data-ga=\"['電影頁_時刻表', '電影頁_時刻表_場次', '葉問4：完結篇']\" data-movie=\"6ae85d5469e64576be07146ba1e357da\" data-movie_date=\"01.03\" data-movie_time=\"20:00\" data-movie_title=\"葉問4：完結篇\" data-movie_type=\"數位\" data-session=\"af004c1a6ecb447ba6c1638727a9bd39\" data-time=\"1578052800\" id=\"72684668\" name=\"schedule_list\" type=\"radio\" value=\"2020-01-03 20:00:00\"/>\n",
      "<label class=\"select\" for=\"72684668\">20:00</label>\n",
      "<input class=\"gabtn\" data-cinema=\"40288eb0050f31210ada0f55676b1bbc\" data-date=\"1577980800\" data-ezding=\"ezding\" data-ga=\"['電影頁_時刻表', '電影頁_時刻表_場次', '葉問4：完結篇']\" data-movie=\"6ae85d5469e64576be07146ba1e357da\" data-movie_date=\"01.03\" data-movie_time=\"21:10\" data-movie_title=\"葉問4：完結篇\" data-movie_type=\"數位\" data-session=\"57dd84a31fd747eead30182827420e31\" data-time=\"1578057000\" id=\"72684669\" name=\"schedule_list\" type=\"radio\" value=\"2020-01-03 21:10:00\"/>\n",
      "<label class=\"select\" for=\"72684669\">21:10</label>\n",
      "<input class=\"gabtn\" data-cinema=\"40288eb0050f31210ada0f55676b1bbc\" data-date=\"1577980800\" data-ezding=\"ezding\" data-ga=\"['電影頁_時刻表', '電影頁_時刻表_場次', '葉問4：完結篇']\" data-movie=\"6ae85d5469e64576be07146ba1e357da\" data-movie_date=\"01.03\" data-movie_time=\"22:10\" data-movie_title=\"葉問4：完結篇\" data-movie_type=\"數位\" data-session=\"35d5ba135f694753a5969c211cbc99ba\" data-time=\"1578060600\" id=\"72684670\" name=\"schedule_list\" type=\"radio\" value=\"2020-01-03 22:10:00\"/>\n",
      "<label class=\"select\" for=\"72684670\">22:10</label>\n",
      "<input class=\"gabtn\" data-cinema=\"40288eb0050f31210ada0f55676b1bbc\" data-date=\"1577980800\" data-ezding=\"ezding\" data-ga=\"['電影頁_時刻表', '電影頁_時刻表_場次', '葉問4：完結篇']\" data-movie=\"6ae85d5469e64576be07146ba1e357da\" data-movie_date=\"01.03\" data-movie_time=\"23:20\" data-movie_title=\"葉問4：完結篇\" data-movie_type=\"數位\" data-session=\"053088dccada41be969a2d30a19ef447\" data-time=\"1578064800\" id=\"72684671\" name=\"schedule_list\" type=\"radio\" value=\"2020-01-03 23:20:00\"/>\n",
      "<label class=\"select\" for=\"72684671\">23:20</label>\n",
      "<input class=\"gabtn\" data-cinema=\"40288eb0050f31210ada0f55676b1bbc\" data-date=\"1577980800\" data-ezding=\"ezding\" data-ga=\"['電影頁_時刻表', '電影頁_時刻表_場次', '葉問4：完結篇']\" data-movie=\"6ae85d5469e64576be07146ba1e357da\" data-movie_date=\"01.04\" data-movie_time=\"00:20\" data-movie_title=\"葉問4：完結篇\" data-movie_type=\"數位\" data-session=\"cb267222da2140b890c58324cd71569d\" data-time=\"1578068400\" id=\"72684672\" name=\"schedule_list\" type=\"radio\" value=\"2020-01-04 00:20:00\"/>\n",
      "<label class=\"select\" for=\"72684672\">00:20</label>\n",
      "</div>\n",
      "</li>\n",
      "</ul>\n"
     ]
    }
   ],
   "source": []
  },
  {
   "cell_type": "code",
   "execution_count": 56,
   "metadata": {},
   "outputs": [
    {
     "data": {
      "text/plain": [
       "bs4.element.Tag"
      ]
     },
     "execution_count": 56,
     "metadata": {},
     "output_type": "execute_result"
    }
   ],
   "source": [
    "type(i)"
   ]
  },
  {
   "cell_type": "code",
   "execution_count": 57,
   "metadata": {},
   "outputs": [
    {
     "data": {
      "text/plain": [
       "'台北美麗華大直影城'"
      ]
     },
     "execution_count": 57,
     "metadata": {},
     "output_type": "execute_result"
    }
   ],
   "source": [
    "i.find('a').string"
   ]
  },
  {
   "cell_type": "code",
   "execution_count": 58,
   "metadata": {},
   "outputs": [
    {
     "data": {
      "text/plain": [
       "'數位'"
      ]
     },
     "execution_count": 58,
     "metadata": {},
     "output_type": "execute_result"
    }
   ],
   "source": [
    "i.find('span', attrs={'class':'tapR'}).string"
   ]
  },
  {
   "cell_type": "code",
   "execution_count": 68,
   "metadata": {},
   "outputs": [
    {
     "data": {
      "text/plain": [
       "'2020-01-03 09:00:00'"
      ]
     },
     "execution_count": 68,
     "metadata": {},
     "output_type": "execute_result"
    }
   ],
   "source": [
    "i.find('input')['value']"
   ]
  },
  {
   "cell_type": "code",
   "execution_count": 70,
   "metadata": {},
   "outputs": [
    {
     "name": "stdout",
     "output_type": "stream",
     "text": [
      "--------------------------------------\n",
      "台北美麗華大直影城\n",
      "數位\n",
      "2020-01-03 09:00:00\n",
      "2020-01-03 10:00:00\n",
      "2020-01-03 11:20:00\n",
      "2020-01-03 13:30:00\n",
      "2020-01-03 14:25:00\n",
      "2020-01-03 15:40:00\n",
      "2020-01-03 17:50:00\n",
      "2020-01-03 19:00:00\n",
      "2020-01-03 20:00:00\n",
      "2020-01-03 21:10:00\n",
      "2020-01-03 22:10:00\n",
      "2020-01-03 23:20:00\n",
      "2020-01-04 00:20:00\n",
      "--------------------------------------\n",
      "台北in89豪華數位影城\n",
      "數位\n",
      "2020-01-03 09:20:00\n",
      "2020-01-03 11:20:00\n",
      "2020-01-03 13:20:00\n",
      "2020-01-03 15:20:00\n",
      "2020-01-03 17:20:00\n",
      "2020-01-03 19:20:00\n",
      "2020-01-03 21:20:00\n",
      "2020-01-03 23:20:00\n",
      "2020-01-04 01:20:00\n",
      "--------------------------------------\n",
      "台北日新威秀影城\n",
      "數位\n",
      "2020-01-03 11:00:00\n",
      "2020-01-03 13:00:00\n",
      "2020-01-03 15:00:00\n",
      "2020-01-03 17:00:00\n",
      "2020-01-03 19:00:00\n",
      "2020-01-03 21:00:00\n",
      "2020-01-03 23:00:00\n",
      "2020-01-04 01:00:00\n",
      "--------------------------------------\n",
      "台北信義威秀影城\n",
      "數位\n",
      "2020-01-03 09:00:00\n",
      "2020-01-03 10:00:00\n",
      "2020-01-03 11:05:00\n",
      "2020-01-03 12:05:00\n",
      "2020-01-03 13:10:00\n",
      "2020-01-03 14:10:00\n",
      "2020-01-03 15:15:00\n",
      "2020-01-03 16:15:00\n",
      "2020-01-03 17:20:00\n",
      "2020-01-03 17:50:00\n",
      "2020-01-03 18:20:00\n",
      "2020-01-03 19:25:00\n",
      "2020-01-03 20:25:00\n",
      "2020-01-03 21:30:00\n",
      "2020-01-03 22:30:00\n",
      "2020-01-03 23:35:00\n",
      "2020-01-04 00:35:00\n",
      "2020-01-04 01:40:00\n",
      "--------------------------------------\n",
      "京站威秀影城\n",
      "數位\n",
      "2020-01-03 09:35:00\n",
      "2020-01-03 11:40:00\n",
      "2020-01-03 12:40:00\n",
      "2020-01-03 13:45:00\n",
      "2020-01-03 15:50:00\n",
      "2020-01-03 16:50:00\n",
      "2020-01-03 17:55:00\n",
      "2020-01-03 19:00:00\n",
      "2020-01-03 20:00:00\n",
      "2020-01-03 21:10:00\n",
      "2020-01-03 22:10:00\n",
      "2020-01-03 23:15:00\n",
      "2020-01-04 00:15:00\n",
      "--------------------------------------\n",
      "梅花數位影院\n",
      "數位\n",
      "2020-01-03 10:30:00\n",
      "2020-01-03 14:50:00\n",
      "2020-01-03 19:30:00\n",
      "--------------------------------------\n",
      "MUVIE CINEMAS台北松仁威秀\n",
      "數位\n",
      "2020-01-03 10:00:00\n",
      "2020-01-03 11:00:00\n",
      "2020-01-03 14:40:00\n",
      "2020-01-03 15:40:00\n",
      "2020-01-03 19:10:00\n",
      "2020-01-03 20:10:00\n",
      "2020-01-03 23:40:00\n",
      "2020-01-04 00:40:00\n"
     ]
    }
   ],
   "source": [
    "for i in html:\n",
    "    print('--------------------------------------')\n",
    "    print(i.find('a').string)\n",
    "    print(i.find('span', attrs={'class':'tapR'}).string)\n",
    "    for j in i.find_all('input'):\n",
    "        print(j['value'])\n"
   ]
  },
  {
   "cell_type": "code",
   "execution_count": null,
   "metadata": {},
   "outputs": [],
   "source": []
  }
 ],
 "metadata": {
  "kernelspec": {
   "display_name": "Python 3",
   "language": "python",
   "name": "python3"
  },
  "language_info": {
   "codemirror_mode": {
    "name": "ipython",
    "version": 3
   },
   "file_extension": ".py",
   "mimetype": "text/x-python",
   "name": "python",
   "nbconvert_exporter": "python",
   "pygments_lexer": "ipython3",
   "version": "3.7.4"
  }
 },
 "nbformat": 4,
 "nbformat_minor": 4
}
